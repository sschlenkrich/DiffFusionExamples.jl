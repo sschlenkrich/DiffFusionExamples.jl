{
 "cells": [
  {
   "cell_type": "markdown",
   "metadata": {},
   "source": [
    "# Interest Rate Model Calibration\n"
   ]
  },
  {
   "cell_type": "code",
   "execution_count": null,
   "metadata": {},
   "outputs": [],
   "source": [
    "using Pkg\n",
    "Pkg.activate(\".\")"
   ]
  },
  {
   "cell_type": "code",
   "execution_count": null,
   "metadata": {},
   "outputs": [],
   "source": [
    "using CSV\n",
    "using DataFrames\n",
    "using DiffFusion\n",
    "using ForwardDiff\n",
    "using PlotlyJS"
   ]
  },
  {
   "cell_type": "code",
   "execution_count": null,
   "metadata": {},
   "outputs": [],
   "source": [
    "include(\"utils.jl\")"
   ]
  },
  {
   "cell_type": "markdown",
   "metadata": {},
   "source": [
    "## Reference Data"
   ]
  },
  {
   "cell_type": "markdown",
   "metadata": {},
   "source": [
    "### Volatility Data"
   ]
  },
  {
   "cell_type": "code",
   "execution_count": null,
   "metadata": {},
   "outputs": [],
   "source": [
    "file_name = \"data/standard_deviation_30days.csv\"\n",
    "std_table = DataFrame(CSV.File(file_name))\n",
    "std_table = stack(std_table, 3:size(std_table)[2])\n",
    "std_table[!, \"VOLATILITY\"] = std_table[!, \"value\"] / sqrt(30.0/365.0);\n",
    "std_table[!, \"YEARS\"] = std_table[!, \"MONTHS\"] / 12;"
   ]
  },
  {
   "cell_type": "markdown",
   "metadata": {},
   "source": [
    "### Correlation Data"
   ]
  },
  {
   "cell_type": "code",
   "execution_count": null,
   "metadata": {},
   "outputs": [],
   "source": [
    "file_name = \"data/correlations_30days.csv\"\n",
    "corr_table = DataFrame(CSV.File(file_name))\n",
    "corr_table = stack(corr_table, 5:size(corr_table)[2])\n",
    "corr_table[!, \"YEARS1\"] = Int.(corr_table[!, \"MONTHS1\"] / 12)\n",
    "corr_table[!, \"YEARS2\"] = Int.(corr_table[!, \"MONTHS2\"] / 12);"
   ]
  },
  {
   "cell_type": "markdown",
   "metadata": {},
   "source": [
    "## Model Setup"
   ]
  },
  {
   "cell_type": "code",
   "execution_count": null,
   "metadata": {},
   "outputs": [],
   "source": [
    "model_params = Dict([\n",
    "    ((\"delta_1\", \"\"), 1.00),\n",
    "    ((\"delta_2\", \"\"), 10.0),\n",
    "    ((\"delta_3\", \"\"), 20.0),\n",
    "    #\n",
    "    ((\"chi_1\", \"\"), 0.01),\n",
    "    ((\"chi_2\", \"\"), 0.50),\n",
    "    ((\"chi_3\", \"\"), 0.80),\n",
    "    #\n",
    "    ((\"EUR_f_1\", \"\"), 0.0060),\n",
    "    ((\"EUR_f_2\", \"\"), 0.0068),\n",
    "    ((\"EUR_f_3\", \"\"), 0.0071),\n",
    "    #\n",
    "    ((\"EUR_f_1\", \"EUR_f_2\"), 0.55),\n",
    "    ((\"EUR_f_2\", \"EUR_f_3\"), 0.95),\n",
    "    ((\"EUR_f_1\", \"EUR_f_3\"), 0.45),\n",
    "    #\n",
    "]);"
   ]
  },
  {
   "cell_type": "markdown",
   "metadata": {},
   "source": [
    "## Model Analysis"
   ]
  },
  {
   "cell_type": "code",
   "execution_count": null,
   "metadata": {},
   "outputs": [],
   "source": [
    "update_rates_plots!(\n",
    "    [\n",
    "    ],\n",
    "    model_params, std_table, corr_table,\n",
    "    plot_vols = true,\n",
    "    plot_rates_corrs = true,\n",
    ")"
   ]
  },
  {
   "cell_type": "markdown",
   "metadata": {},
   "source": [
    "## Sensitivity Analysis"
   ]
  },
  {
   "cell_type": "code",
   "execution_count": null,
   "metadata": {},
   "outputs": [],
   "source": [
    "plot_model_sensitivities(model_params)"
   ]
  }
 ],
 "metadata": {
  "kernelspec": {
   "display_name": "Julia 1.10.2",
   "language": "julia",
   "name": "julia-1.10"
  },
  "language_info": {
   "file_extension": ".jl",
   "mimetype": "application/julia",
   "name": "julia",
   "version": "1.10.2"
  }
 },
 "nbformat": 4,
 "nbformat_minor": 2
}
