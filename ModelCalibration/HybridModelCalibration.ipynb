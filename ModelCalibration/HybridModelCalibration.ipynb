{
 "cells": [
  {
   "cell_type": "markdown",
   "metadata": {},
   "source": [
    "# Cross-Asset Hybrid Model Calibration\n",
    "\n",
    "In this notebook, we analyse the calibration of a cross-asset hybrid model for EUR, USD and GBP. The analysis represents an extension of the 3-factor Gaussian HJM interest rate model analysis in [RatesModelCalibration](RatesModelCalibration.ipynb).\n",
    "\n",
    "Calibration objectives are statistical properties of reference interest rates and exchange rates (or asset prices). The targeted statistical properties are volatilities and correlations of 1-month returns observed from a historical time series spanning 20 years. The data generation procedure and calculation methodology for reference volatilities and correlations are specified in the related [MarketData](https://github.com/sschlenkrich/MarketData) repository.\n",
    "\n",
    "The calibrated model is considered a *real-world* model. The model will recover observed statistical properties. But the resulting model will a priori *not* match prices for interest rate and FX options observed in the market at a given date. Nevertheless, the calibrated model is intended to provide a starting point (or initial guess) for risk neutral calibration to interest rate option data.\n",
    "\n",
    "An objective of the real-world calibration is to mark model parameters which are difficult to calibrate to option data. Such model parameters are mean reversion rates and instantaneous risk factor correlations."
   ]
  },
  {
   "cell_type": "markdown",
   "metadata": {},
   "source": [
    "## Packages and Preliminaries"
   ]
  },
  {
   "cell_type": "code",
   "execution_count": null,
   "metadata": {},
   "outputs": [],
   "source": [
    "using Pkg\n",
    "Pkg.activate(\"../.\")"
   ]
  },
  {
   "cell_type": "code",
   "execution_count": null,
   "metadata": {},
   "outputs": [],
   "source": [
    "using CSV\n",
    "using DataFrames\n",
    "using DiffFusion\n",
    "using PlotlyJS"
   ]
  },
  {
   "cell_type": "code",
   "execution_count": null,
   "metadata": {},
   "outputs": [],
   "source": [
    "include(\"utils.jl\")"
   ]
  },
  {
   "cell_type": "markdown",
   "metadata": {},
   "source": [
    "## Reference Rate Specification\n",
    "\n",
    "Reference interest rates are continuously compounded zero rates.\n",
    "\n",
    "$$\n",
    "z_{t}\\left(\\tau\\right)=-\\frac{\\log\\left[P\\left(t,t+\\tau\\right)\\right]}{\\tau}.\n",
    "$$\n",
    "\n",
    "For EUR and GBP We use rate terms $\\tau \\in \\{ 1, 2, 5, 10, 15, 20 \\}$ (measured in years). For USD we skip the 15 year reference rate term due to a lack of available historical data. Details on the reference interest rate properties are discussed in the [RatesModelCalibration](RatesModelCalibration.ipynb) notebook.\n",
    "\n",
    "Reference exchange rates are formulated as log-prices,\n",
    "\n",
    "$$\n",
    "y_{t} = \\log\\left( S_t \\right).\n",
    "$$"
   ]
  },
  {
   "cell_type": "markdown",
   "metadata": {},
   "source": [
    "## Reference Rate Data\n",
    "\n",
    "Calibration targets are estimated from historical time series. The targets are represented by ranges for volatilities and correlations. These ranges give some indication about the uncertainty in the statistical estimation. For details, see the discussion in the [MarketData](https://github.com/sschlenkrich/MarketData) repository."
   ]
  },
  {
   "cell_type": "markdown",
   "metadata": {},
   "source": [
    "### Volatility Data\n",
    "\n",
    "We normalise volatility data as annualised volatility and measure reference rate terms in years."
   ]
  },
  {
   "cell_type": "code",
   "execution_count": null,
   "metadata": {},
   "outputs": [],
   "source": [
    "file_name = \"data/standard_deviation_30days.csv\"\n",
    "std_table = DataFrame(CSV.File(file_name))\n",
    "std_table = stack(std_table, 3:size(std_table)[2])\n",
    "std_table[!, \"VOLATILITY\"] = std_table[!, \"value\"] / sqrt(30.0/365.0);\n",
    "std_table[!, \"YEARS\"] = std_table[!, \"MONTHS\"] / 12;"
   ]
  },
  {
   "cell_type": "markdown",
   "metadata": {},
   "source": [
    "### Correlation Data"
   ]
  },
  {
   "cell_type": "code",
   "execution_count": null,
   "metadata": {},
   "outputs": [],
   "source": [
    "file_name = \"data/correlations_30days.csv\"\n",
    "corr_table = DataFrame(CSV.File(file_name))\n",
    "corr_table = stack(corr_table, 5:size(corr_table)[2])\n",
    "corr_table[!, \"YEARS1\"] = Int.(corr_table[!, \"MONTHS1\"] / 12)\n",
    "corr_table[!, \"YEARS2\"] = Int.(corr_table[!, \"MONTHS2\"] / 12);"
   ]
  },
  {
   "cell_type": "markdown",
   "metadata": {},
   "source": [
    "## Model Setup\n",
    "\n",
    "For this analysis, we setup 3-factor Gaussian HJM models for EUR, USD and GBP with time-homogenous volatility parameters.\n",
    "\n",
    "The volatility specification uses zero rate benchmark rates with terms $\\{1, 10, 20\\}$ (measured in years). We note that the benchmark rate terms deliberately coincide with reference rate terms. This way, we can directly control respective volatilities and correlations.\n",
    "\n",
    "Exchange rate models are specified for USD-EUR and GBP-EUR. We use log-normal models with time-homogenous volatility parameter.\n",
    "\n",
    "Besides the volatility parameters for interest rate and exchange rate models, we need to mark correlations between all the risk factors.\n",
    "\n",
    "The model specification is encoded in the `model_params` dictionary below."
   ]
  },
  {
   "cell_type": "code",
   "execution_count": null,
   "metadata": {},
   "outputs": [],
   "source": [
    "model_params = Dict([\n",
    "    # interest rate model benchmark rates, equal for all models\n",
    "    ((\"delta_1\", \"\"), 1.0),\n",
    "    ((\"delta_2\", \"\"), 10.0),\n",
    "    ((\"delta_3\", \"\"), 20.0),\n",
    "    # interest rate model mean reversion parameters\n",
    "    ((\"EUR_chi_1\", \"\"), 0.01),\n",
    "    ((\"EUR_chi_2\", \"\"), 0.50),\n",
    "    ((\"EUR_chi_3\", \"\"), 0.80),\n",
    "    #\n",
    "    ((\"USD_chi_1\", \"\"), 0.01),\n",
    "    ((\"USD_chi_2\", \"\"), 0.30),\n",
    "    ((\"USD_chi_3\", \"\"), 0.60),\n",
    "    #\n",
    "    ((\"GBP_chi_1\", \"\"), 0.01),\n",
    "    ((\"GBP_chi_2\", \"\"), 0.20),\n",
    "    ((\"GBP_chi_3\", \"\"), 0.40),\n",
    "    # interest rate model volatlity parameters\n",
    "    ((\"EUR_f_1\", \"\"), 0.0060),\n",
    "    ((\"EUR_f_2\", \"\"), 0.0068),\n",
    "    ((\"EUR_f_3\", \"\"), 0.0071),\n",
    "    #\n",
    "    ((\"USD_f_1\", \"\"), 0.0070),\n",
    "    ((\"USD_f_2\", \"\"), 0.0085),\n",
    "    ((\"USD_f_3\", \"\"), 0.0080),\n",
    "    #\n",
    "    ((\"GBP_f_1\", \"\"), 0.0078),\n",
    "    ((\"GBP_f_2\", \"\"), 0.0086),\n",
    "    ((\"GBP_f_3\", \"\"), 0.0077),\n",
    "    # exchange rate modelvolatility parameters\n",
    "    ((\"USD-EUR_x\", \"\"), 0.090),\n",
    "    ((\"GBP-EUR_x\", \"\"), 0.075),\n",
    "    # interest rate model correlations\n",
    "    ((\"EUR_f_1\", \"EUR_f_2\"), 0.55),\n",
    "    ((\"EUR_f_2\", \"EUR_f_3\"), 0.95),\n",
    "    ((\"EUR_f_1\", \"EUR_f_3\"), 0.45),\n",
    "    #\n",
    "    ((\"USD_f_1\", \"USD_f_2\"), 0.55),\n",
    "    ((\"USD_f_2\", \"USD_f_3\"), 0.95),\n",
    "    ((\"USD_f_1\", \"USD_f_3\"), 0.45),\n",
    "    #\n",
    "    ((\"GBP_f_1\", \"GBP_f_2\"), 0.60),\n",
    "    ((\"GBP_f_2\", \"GBP_f_3\"), 0.95),\n",
    "    ((\"GBP_f_1\", \"GBP_f_3\"), 0.50),\n",
    "    # rates vs. FX correlations\n",
    "    ((\"EUR_f_1\", \"USD-EUR_x\"), 0.25),\n",
    "    ((\"EUR_f_2\", \"USD-EUR_x\"), 0.10),\n",
    "    ((\"EUR_f_3\", \"USD-EUR_x\"), 0.08),\n",
    "    #\n",
    "    ((\"USD_f_1\", \"USD-EUR_x\"), -0.15),\n",
    "    ((\"USD_f_2\", \"USD-EUR_x\"), -0.10),\n",
    "    ((\"USD_f_3\", \"USD-EUR_x\"), -0.08),\n",
    "    #\n",
    "    ((\"GBP_f_1\", \"USD-EUR_x\"), 0.05),\n",
    "    ((\"GBP_f_2\", \"USD-EUR_x\"), -0.05),\n",
    "    ((\"GBP_f_3\", \"USD-EUR_x\"), -0.07),\n",
    "    #\n",
    "    ((\"EUR_f_1\", \"GBP-EUR_x\"), 0.07),\n",
    "    ((\"EUR_f_2\", \"GBP-EUR_x\"), 0.03),\n",
    "    ((\"EUR_f_3\", \"GBP-EUR_x\"), 0.02),\n",
    "    #\n",
    "    ((\"USD_f_1\", \"GBP-EUR_x\"), -0.18),\n",
    "    ((\"USD_f_2\", \"GBP-EUR_x\"), -0.22),\n",
    "    ((\"USD_f_3\", \"GBP-EUR_x\"), -0.20),\n",
    "    #\n",
    "    ((\"GBP_f_1\", \"GBP-EUR_x\"), -0.25),\n",
    "    ((\"GBP_f_2\", \"GBP-EUR_x\"), -0.17),\n",
    "    ((\"GBP_f_3\", \"GBP-EUR_x\"), -0.13),\n",
    "    # FX vs. FX correlation\n",
    "    ((\"USD-EUR_x\", \"GBP-EUR_x\"), 0.35),\n",
    "    # rates vs. rates correlations\n",
    "    ((\"EUR_f_1\", \"USD_f_1\"), 0.55),\n",
    "    ((\"EUR_f_1\", \"USD_f_2\"), 0.45),\n",
    "    ((\"EUR_f_1\", \"USD_f_3\"), 0.35),\n",
    "    #\n",
    "    ((\"EUR_f_2\", \"USD_f_1\"), 0.40),\n",
    "    ((\"EUR_f_2\", \"USD_f_2\"), 0.75),\n",
    "    ((\"EUR_f_2\", \"USD_f_3\"), 0.75),\n",
    "    #\n",
    "    ((\"EUR_f_3\", \"USD_f_1\"), 0.35),\n",
    "    ((\"EUR_f_3\", \"USD_f_2\"), 0.70),\n",
    "    ((\"EUR_f_3\", \"USD_f_3\"), 0.75),\n",
    "    #\n",
    "    ((\"EUR_f_1\", \"GBP_f_1\"), 0.67),\n",
    "    ((\"EUR_f_1\", \"GBP_f_2\"), 0.47),\n",
    "    ((\"EUR_f_1\", \"GBP_f_3\"), 0.37),\n",
    "    #\n",
    "    ((\"EUR_f_2\", \"GBP_f_1\"), 0.45),\n",
    "    ((\"EUR_f_2\", \"GBP_f_2\"), 0.80),\n",
    "    ((\"EUR_f_2\", \"GBP_f_3\"), 0.75),\n",
    "    #\n",
    "    ((\"EUR_f_3\", \"GBP_f_1\"), 0.37),\n",
    "    ((\"EUR_f_3\", \"GBP_f_2\"), 0.75),\n",
    "    ((\"EUR_f_3\", \"GBP_f_3\"), 0.75),\n",
    "    #\n",
    "    ((\"USD_f_1\", \"GBP_f_1\"), 0.55),\n",
    "    ((\"USD_f_1\", \"GBP_f_2\"), 0.40),\n",
    "    ((\"USD_f_1\", \"GBP_f_3\"), 0.35),\n",
    "    #\n",
    "    ((\"USD_f_2\", \"GBP_f_1\"), 0.45),\n",
    "    ((\"USD_f_2\", \"GBP_f_2\"), 0.77),\n",
    "    ((\"USD_f_2\", \"GBP_f_3\"), 0.72),\n",
    "    #\n",
    "    ((\"USD_f_3\", \"GBP_f_1\"), 0.32),\n",
    "    ((\"USD_f_3\", \"GBP_f_2\"), 0.77),\n",
    "    ((\"USD_f_3\", \"GBP_f_3\"), 0.75),    \n",
    "]);"
   ]
  },
  {
   "cell_type": "markdown",
   "metadata": {},
   "source": [
    "The parameters in the dictionary can be modified. And the impact on model-implied quantities can be observed in below output graphs."
   ]
  },
  {
   "cell_type": "markdown",
   "metadata": {},
   "source": [
    "### Using DiffFusion Example Model\n",
    "\n",
    "Alternatively, we may use a pre-defined DiffFusion Example model. For this use case, we specify the model name in the model parameters variable.\n",
    "\n",
    "The pre-defined model must be a EUR-based model with context and correlations consistent with this analysis.\n",
    "\n",
    "We use this functionality to double-check that the pre-defined DiffFusion Example model `g3_3factor_real_world` is consistent with our calibrated model from this analysis."
   ]
  },
  {
   "cell_type": "code",
   "execution_count": null,
   "metadata": {},
   "outputs": [],
   "source": [
    "# model_params = \"g3_3factor_real_world\""
   ]
  },
  {
   "cell_type": "markdown",
   "metadata": {},
   "source": [
    "## Model Analysis\n",
    "\n",
    "In below graphs we compare ranges (box plots) of estimates for historical volatility and correlation with corresponding model-implied quantities.\n",
    "\n",
    "Model-implied volatilities and correlations are evaluated using the methodology implemented in `DiffFusion.reference_rate_volatility_and_correlation(...)`.\n",
    "\n",
    "Model-implied volatilities and correlations for 1-year, 10-year, 20-year rates and exchange rates can be controlled effectively by the corresponding input model parameters. Other model-implied quantities are *interpolated* by the model."
   ]
  },
  {
   "cell_type": "code",
   "execution_count": null,
   "metadata": {},
   "outputs": [],
   "source": [
    "update_hybrid_plots!(\n",
    "    [\n",
    "    ],\n",
    "    model_params, std_table, corr_table,\n",
    "    plot_vols = true,\n",
    "    plot_rates_corrs = true,\n",
    "    plot_fx_corrs = true,\n",
    "    plot_fx_rates_corrs = true,\n",
    "    plot_rates_rates_corrs = true,\n",
    "    scaling_type = DiffFusion.ZeroRateScaling,\n",
    ")"
   ]
  },
  {
   "cell_type": "markdown",
   "metadata": {},
   "source": [
    "The model input parameters can be modified to successively match historical volatilities and correlations for the various models.\n",
    "\n",
    "It turns out that the most challenging part is the interest rate model calibration. The methodology for interest rate model calibration is discussed in [RatesModelCalibration](RatesModelCalibration.ipynb).\n",
    "\n",
    "We find that we can match well the structure of interest rate and exchange rate volatilities and correlations for various reference terms. The analysis demonstrates that the chosen modelling setup is well suited to model historically observed statistical properties of interest rates and exchange rates."
   ]
  },
  {
   "cell_type": "markdown",
   "metadata": {},
   "source": [
    "## Model Analysis for 1-Factor Rates Models\n",
    "\n",
    "We repeat above analysis and test whether we can also match reference volatilities and correlations with a setting where interest rates are modelled with only a for 1-factor models.\n",
    "\n",
    "For this exercise, we switch-off *zero rate scaling* of volatilities and set volatility parameters for second and third interest rate factor to zero. This way, the 3-factor model degenerates to a 1-factor model."
   ]
  },
  {
   "cell_type": "code",
   "execution_count": null,
   "metadata": {},
   "outputs": [],
   "source": [
    "model_params_1f = Dict([\n",
    "    # interest rate model benchmark rates, equal for all models\n",
    "    ((\"delta_1\", \"\"), 1.0),\n",
    "    ((\"delta_2\", \"\"), 10.0),\n",
    "    ((\"delta_3\", \"\"), 20.0),\n",
    "    # interest rate model mean reversion parameters\n",
    "    ((\"EUR_chi_1\", \"\"), 0.01),\n",
    "    ((\"EUR_chi_2\", \"\"), 0.50),\n",
    "    ((\"EUR_chi_3\", \"\"), 0.80),\n",
    "    #\n",
    "    ((\"USD_chi_1\", \"\"), 0.01),\n",
    "    ((\"USD_chi_2\", \"\"), 0.30),\n",
    "    ((\"USD_chi_3\", \"\"), 0.60),\n",
    "    #\n",
    "    ((\"GBP_chi_1\", \"\"), 0.01),\n",
    "    ((\"GBP_chi_2\", \"\"), 0.20),\n",
    "    ((\"GBP_chi_3\", \"\"), 0.40),\n",
    "    # interest rate model volatlity parameters\n",
    "    ((\"EUR_f_1\", \"\"), 0.0075),\n",
    "    ((\"EUR_f_2\", \"\"), 0.0000),\n",
    "    ((\"EUR_f_3\", \"\"), 0.0000),\n",
    "    #\n",
    "    ((\"USD_f_1\", \"\"), 0.0090),\n",
    "    ((\"USD_f_2\", \"\"), 0.0000),\n",
    "    ((\"USD_f_3\", \"\"), 0.0000),\n",
    "    #\n",
    "    ((\"GBP_f_1\", \"\"), 0.0090),\n",
    "    ((\"GBP_f_2\", \"\"), 0.0000),\n",
    "    ((\"GBP_f_3\", \"\"), 0.0000),\n",
    "    # exchange rate modelvolatility parameters\n",
    "    ((\"USD-EUR_x\", \"\"), 0.090),\n",
    "    ((\"GBP-EUR_x\", \"\"), 0.075),\n",
    "    # interest rate model correlations\n",
    "    # rates vs. FX correlations\n",
    "    ((\"EUR_f_1\", \"USD-EUR_x\"), 0.10),\n",
    "    #\n",
    "    ((\"USD_f_1\", \"USD-EUR_x\"), -0.15),\n",
    "    #\n",
    "    ((\"GBP_f_1\", \"USD-EUR_x\"), -0.05),\n",
    "    #\n",
    "    ((\"EUR_f_1\", \"GBP-EUR_x\"), 0.02),\n",
    "    #\n",
    "    ((\"USD_f_1\", \"GBP-EUR_x\"), -0.20),\n",
    "    #\n",
    "    ((\"GBP_f_1\", \"GBP-EUR_x\"), -0.15),\n",
    "    # FX vs. FX correlation\n",
    "    ((\"USD-EUR_x\", \"GBP-EUR_x\"), 0.35),\n",
    "    # rates vs. rates correlations\n",
    "    ((\"EUR_f_1\", \"USD_f_1\"), 0.55),\n",
    "    #\n",
    "    ((\"EUR_f_1\", \"GBP_f_1\"), 0.60),\n",
    "    #\n",
    "    ((\"USD_f_1\", \"GBP_f_1\"), 0.55),\n",
    "]);\n",
    "#\n",
    "update_hybrid_plots!(\n",
    "    [\n",
    "    ],\n",
    "    model_params_1f, std_table, corr_table,\n",
    "    plot_vols = true,\n",
    "    plot_rates_corrs = true,\n",
    "    plot_fx_corrs = true,\n",
    "    plot_fx_rates_corrs = true,\n",
    "    plot_rates_rates_corrs = true,\n",
    "    scaling_type = DiffFusion.DiagonalScaling,\n",
    ")"
   ]
  },
  {
   "cell_type": "markdown",
   "metadata": {},
   "source": [
    "As expected, the 1-factor interest rate model setting does not allow to match observed volatility structures and correlation patterns."
   ]
  },
  {
   "cell_type": "markdown",
   "metadata": {},
   "source": []
  }
 ],
 "metadata": {
  "kernelspec": {
   "display_name": "Julia 1.10.4",
   "language": "julia",
   "name": "julia-1.10"
  },
  "language_info": {
   "file_extension": ".jl",
   "mimetype": "application/julia",
   "name": "julia",
   "version": "1.10.4"
  }
 },
 "nbformat": 4,
 "nbformat_minor": 2
}
