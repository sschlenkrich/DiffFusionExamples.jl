{
 "cells": [
  {
   "cell_type": "markdown",
   "metadata": {},
   "source": [
    "# Model Calibration\n"
   ]
  },
  {
   "cell_type": "code",
   "execution_count": null,
   "metadata": {},
   "outputs": [],
   "source": [
    "using Pkg\n",
    "Pkg.activate(\".\")"
   ]
  },
  {
   "cell_type": "code",
   "execution_count": null,
   "metadata": {},
   "outputs": [],
   "source": [
    "using CSV\n",
    "using DataFrames\n",
    "using DiffFusion\n",
    "using PlotlyJS"
   ]
  },
  {
   "cell_type": "code",
   "execution_count": null,
   "metadata": {},
   "outputs": [],
   "source": [
    "include(\"utils.jl\")"
   ]
  },
  {
   "cell_type": "markdown",
   "metadata": {},
   "source": [
    "## Reference Data"
   ]
  },
  {
   "cell_type": "markdown",
   "metadata": {},
   "source": [
    "### Volatility Data"
   ]
  },
  {
   "cell_type": "code",
   "execution_count": null,
   "metadata": {},
   "outputs": [],
   "source": [
    "file_name = \"data/standard_deviation_30days.csv\"\n",
    "std_table = DataFrame(CSV.File(file_name))\n",
    "std_table = stack(std_table, 3:size(std_table)[2])\n",
    "std_table[!, \"VOLATILITY\"] = std_table[!, \"value\"] / sqrt(30.0/365.0);\n",
    "std_table[!, \"YEARS\"] = std_table[!, \"MONTHS\"] / 12;"
   ]
  },
  {
   "cell_type": "markdown",
   "metadata": {},
   "source": [
    "### Correlation Data"
   ]
  },
  {
   "cell_type": "code",
   "execution_count": null,
   "metadata": {},
   "outputs": [],
   "source": [
    "file_name = \"data/correlations_30days.csv\"\n",
    "corr_table = DataFrame(CSV.File(file_name))\n",
    "corr_table = stack(corr_table, 5:size(corr_table)[2])\n",
    "corr_table[!, \"YEARS1\"] = Int.(corr_table[!, \"MONTHS1\"] / 12)\n",
    "corr_table[!, \"YEARS2\"] = Int.(corr_table[!, \"MONTHS2\"] / 12);"
   ]
  },
  {
   "cell_type": "markdown",
   "metadata": {},
   "source": [
    "## Model Setup"
   ]
  },
  {
   "cell_type": "code",
   "execution_count": null,
   "metadata": {},
   "outputs": [],
   "source": [
    "model_params = Dict([\n",
    "    ((\"delta_1\", \"\"), 1.0),\n",
    "    ((\"delta_2\", \"\"), 10.0),\n",
    "    ((\"delta_3\", \"\"), 20.0),\n",
    "    #\n",
    "    ((\"EUR_chi_1\", \"\"), 0.01),\n",
    "    ((\"EUR_chi_2\", \"\"), 0.50),\n",
    "    ((\"EUR_chi_3\", \"\"), 0.80),\n",
    "    #\n",
    "    ((\"USD_chi_1\", \"\"), 0.01),\n",
    "    ((\"USD_chi_2\", \"\"), 0.30),\n",
    "    ((\"USD_chi_3\", \"\"), 0.60),\n",
    "    #\n",
    "    ((\"GBP_chi_1\", \"\"), 0.01),\n",
    "    ((\"GBP_chi_2\", \"\"), 0.20),\n",
    "    ((\"GBP_chi_3\", \"\"), 0.40),\n",
    "    #\n",
    "    ((\"EUR_f_1\", \"\"), 0.0060),\n",
    "    ((\"EUR_f_2\", \"\"), 0.0068),\n",
    "    ((\"EUR_f_3\", \"\"), 0.0071),\n",
    "    #\n",
    "    ((\"USD_f_1\", \"\"), 0.0070),\n",
    "    ((\"USD_f_2\", \"\"), 0.0085),\n",
    "    ((\"USD_f_3\", \"\"), 0.0080),\n",
    "    #\n",
    "    ((\"GBP_f_1\", \"\"), 0.0078),\n",
    "    ((\"GBP_f_2\", \"\"), 0.0086),\n",
    "    ((\"GBP_f_3\", \"\"), 0.0077),\n",
    "    #\n",
    "    ((\"USD-EUR_x\", \"\"), 0.090),\n",
    "    ((\"GBP-EUR_x\", \"\"), 0.075),\n",
    "    #\n",
    "    ((\"EUR_f_1\", \"EUR_f_2\"), 0.55),\n",
    "    ((\"EUR_f_2\", \"EUR_f_3\"), 0.95),\n",
    "    ((\"EUR_f_1\", \"EUR_f_3\"), 0.45),\n",
    "    #\n",
    "    ((\"USD_f_1\", \"USD_f_2\"), 0.55),\n",
    "    ((\"USD_f_2\", \"USD_f_3\"), 0.95),\n",
    "    ((\"USD_f_1\", \"USD_f_3\"), 0.45),\n",
    "    #\n",
    "    ((\"GBP_f_1\", \"GBP_f_2\"), 0.60),\n",
    "    ((\"GBP_f_2\", \"GBP_f_3\"), 0.95),\n",
    "    ((\"GBP_f_1\", \"GBP_f_3\"), 0.50),\n",
    "    #\n",
    "    ((\"EUR_f_1\", \"USD-EUR_x\"), 0.25),\n",
    "    ((\"EUR_f_2\", \"USD-EUR_x\"), 0.10),\n",
    "    ((\"EUR_f_3\", \"USD-EUR_x\"), 0.08),\n",
    "    #\n",
    "    ((\"USD_f_1\", \"USD-EUR_x\"), -0.15),\n",
    "    ((\"USD_f_2\", \"USD-EUR_x\"), -0.10),\n",
    "    ((\"USD_f_3\", \"USD-EUR_x\"), -0.08),\n",
    "    #\n",
    "    ((\"GBP_f_1\", \"USD-EUR_x\"), 0.05),\n",
    "    ((\"GBP_f_2\", \"USD-EUR_x\"), -0.05),\n",
    "    ((\"GBP_f_3\", \"USD-EUR_x\"), -0.07),\n",
    "    #\n",
    "    ((\"EUR_f_1\", \"GBP-EUR_x\"), 0.07),\n",
    "    ((\"EUR_f_2\", \"GBP-EUR_x\"), 0.03),\n",
    "    ((\"EUR_f_3\", \"GBP-EUR_x\"), 0.02),\n",
    "    #\n",
    "    ((\"USD_f_1\", \"GBP-EUR_x\"), -0.18),\n",
    "    ((\"USD_f_2\", \"GBP-EUR_x\"), -0.22),\n",
    "    ((\"USD_f_3\", \"GBP-EUR_x\"), -0.20),\n",
    "    #\n",
    "    ((\"GBP_f_1\", \"GBP-EUR_x\"), -0.25),\n",
    "    ((\"GBP_f_2\", \"GBP-EUR_x\"), -0.17),\n",
    "    ((\"GBP_f_3\", \"GBP-EUR_x\"), -0.13),\n",
    "    #\n",
    "    ((\"USD-EUR_x\", \"GBP-EUR_x\"), 0.35),\n",
    "    #\n",
    "    ((\"EUR_f_1\", \"USD_f_1\"), 0.55),\n",
    "    ((\"EUR_f_1\", \"USD_f_2\"), 0.45),\n",
    "    ((\"EUR_f_1\", \"USD_f_3\"), 0.35),\n",
    "    #\n",
    "    ((\"EUR_f_2\", \"USD_f_1\"), 0.40),\n",
    "    ((\"EUR_f_2\", \"USD_f_2\"), 0.75),\n",
    "    ((\"EUR_f_2\", \"USD_f_3\"), 0.75),\n",
    "    #\n",
    "    ((\"EUR_f_3\", \"USD_f_1\"), 0.35),\n",
    "    ((\"EUR_f_3\", \"USD_f_2\"), 0.70),\n",
    "    ((\"EUR_f_3\", \"USD_f_3\"), 0.75),\n",
    "    #\n",
    "    ((\"EUR_f_1\", \"GBP_f_1\"), 0.67),\n",
    "    ((\"EUR_f_1\", \"GBP_f_2\"), 0.47),\n",
    "    ((\"EUR_f_1\", \"GBP_f_3\"), 0.37),\n",
    "    #\n",
    "    ((\"EUR_f_2\", \"GBP_f_1\"), 0.45),\n",
    "    ((\"EUR_f_2\", \"GBP_f_2\"), 0.80),\n",
    "    ((\"EUR_f_2\", \"GBP_f_3\"), 0.75),\n",
    "    #\n",
    "    ((\"EUR_f_3\", \"GBP_f_1\"), 0.37),\n",
    "    ((\"EUR_f_3\", \"GBP_f_2\"), 0.75),\n",
    "    ((\"EUR_f_3\", \"GBP_f_3\"), 0.75),\n",
    "    #\n",
    "    ((\"USD_f_1\", \"GBP_f_1\"), 0.55),\n",
    "    ((\"USD_f_1\", \"GBP_f_2\"), 0.40),\n",
    "    ((\"USD_f_1\", \"GBP_f_3\"), 0.35),\n",
    "    #\n",
    "    ((\"USD_f_2\", \"GBP_f_1\"), 0.45),\n",
    "    ((\"USD_f_2\", \"GBP_f_2\"), 0.77),\n",
    "    ((\"USD_f_2\", \"GBP_f_3\"), 0.72),\n",
    "    #\n",
    "    ((\"USD_f_3\", \"GBP_f_1\"), 0.32),\n",
    "    ((\"USD_f_3\", \"GBP_f_2\"), 0.77),\n",
    "    ((\"USD_f_3\", \"GBP_f_3\"), 0.75),    \n",
    "]);"
   ]
  },
  {
   "cell_type": "markdown",
   "metadata": {},
   "source": [
    "## Model Analysis"
   ]
  },
  {
   "cell_type": "code",
   "execution_count": null,
   "metadata": {},
   "outputs": [],
   "source": [
    "update_hybrid_plots!(\n",
    "    [\n",
    "    ],\n",
    "    model_params, std_table, corr_table,\n",
    "    plot_vols = true,\n",
    "    plot_rates_corrs = true,\n",
    "    plot_fx_corrs = true,\n",
    "    plot_fx_rates_corrs = true,\n",
    "    plot_rates_rates_corrs = true,\n",
    ")"
   ]
  }
 ],
 "metadata": {
  "kernelspec": {
   "display_name": "Julia 1.10.2",
   "language": "julia",
   "name": "julia-1.10"
  },
  "language_info": {
   "file_extension": ".jl",
   "mimetype": "application/julia",
   "name": "julia",
   "version": "1.10.2"
  }
 },
 "nbformat": 4,
 "nbformat_minor": 2
}
