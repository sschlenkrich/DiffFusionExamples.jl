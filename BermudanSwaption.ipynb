{
 "cells": [
  {
   "cell_type": "markdown",
   "metadata": {},
   "source": [
    "# BermudanSwaption\n",
    "\n",
    "In this notebook, we illustrate the pricing of Bermudan swaptions with DiffFusion.jl."
   ]
  },
  {
   "cell_type": "markdown",
   "metadata": {},
   "source": [
    "## Incorporating DiffFusion.jl\n",
    "\n",
    "We setup a Julia project environment in the current directory."
   ]
  },
  {
   "cell_type": "code",
   "execution_count": null,
   "metadata": {},
   "outputs": [],
   "source": [
    "using Pkg\n",
    "Pkg.activate(\".\")"
   ]
  },
  {
   "cell_type": "markdown",
   "metadata": {},
   "source": [
    "We need to incorporate the DiffFusion package."
   ]
  },
  {
   "cell_type": "code",
   "execution_count": null,
   "metadata": {},
   "outputs": [],
   "source": [
    "using DiffFusion"
   ]
  },
  {
   "cell_type": "markdown",
   "metadata": {},
   "source": [
    "And use some further packages."
   ]
  },
  {
   "cell_type": "code",
   "execution_count": null,
   "metadata": {},
   "outputs": [],
   "source": [
    "using Plots\n",
    "# gr()\n",
    "plotlyjs()"
   ]
  },
  {
   "cell_type": "markdown",
   "metadata": {},
   "source": [
    "## Model Setup\n",
    "\n",
    "For this example, we set up a one-factor Gaussian HJM model.\n",
    "\n",
    "The model requires various inputs."
   ]
  },
  {
   "cell_type": "markdown",
   "metadata": {},
   "source": [
    "### Correlations\n",
    "\n",
    "Correlations between risk factors are stored in a `CorrelationHolder` object.\n",
    "\n",
    "A one-factor interest rate model does not need need correlations. But the model interface requires that input. Therefore, we set up a trivial correlation holder without correlation values."
   ]
  },
  {
   "cell_type": "code",
   "execution_count": null,
   "metadata": {},
   "outputs": [],
   "source": [
    "ch = DiffFusion.correlation_holder(\"\");"
   ]
  },
  {
   "cell_type": "markdown",
   "metadata": {},
   "source": [
    "### Benchmark Rates\n",
    "\n",
    "The volatility specification of the HJM model uses *benchmark rates*. The benchmark rates are parametrised by tenors $\\delta$.\n",
    "\n",
    "For the one-factor model we choose the short rate as our benchmark rate. The corresponding tenor is zero."
   ]
  },
  {
   "cell_type": "code",
   "execution_count": null,
   "metadata": {},
   "outputs": [],
   "source": [
    "δ = DiffFusion.flat_parameter([ 0., ]);"
   ]
  },
  {
   "cell_type": "markdown",
   "metadata": {},
   "source": [
    "### Mean Reversion Parameter\n",
    "\n",
    "We need to specify a constant mean reversion rate per yield curve factor. For our one-factor model this is just a single value."
   ]
  },
  {
   "cell_type": "code",
   "execution_count": null,
   "metadata": {},
   "outputs": [],
   "source": [
    "χ = DiffFusion.flat_parameter([ 0.01, ]);"
   ]
  },
  {
   "cell_type": "markdown",
   "metadata": {},
   "source": [
    "### Volatility\n",
    "\n",
    "We use a piece-wise constant volatility function."
   ]
  },
  {
   "cell_type": "code",
   "execution_count": null,
   "metadata": {},
   "outputs": [],
   "source": [
    "times = [  1.,  2.,  5., 10. ]\n",
    "values = [ 50.,  60.,  70.,  80., ]' * 1.0e-4 \n",
    "σ = DiffFusion.backward_flat_volatility(\"\", times, values);"
   ]
  },
  {
   "cell_type": "markdown",
   "metadata": {},
   "source": [
    "### Model\n",
    "\n",
    "In the model, we combine the various parameters."
   ]
  },
  {
   "cell_type": "code",
   "execution_count": null,
   "metadata": {},
   "outputs": [],
   "source": [
    "model = DiffFusion.gaussian_hjm_model(\"md/EUR\", δ, χ, σ, ch, nothing);"
   ]
  },
  {
   "cell_type": "markdown",
   "metadata": {},
   "source": [
    "## Monte Carlo Simulation\n",
    "\n",
    "For a given model, we can now simulate state variables. The MC simulation is specified by simulation times and number of MC paths.\n",
    "\n",
    "In this example, we use Sobol sequences as quasi-random numbers."
   ]
  },
  {
   "cell_type": "code",
   "execution_count": null,
   "metadata": {},
   "outputs": [],
   "source": [
    "times = 0.0:0.25:10.0\n",
    "# times = 0.0:0.10:10.0\n",
    "n_paths = 2^10\n",
    "\n",
    "sim = DiffFusion.simple_simulation(\n",
    "    model,\n",
    "    ch,\n",
    "    times,\n",
    "    n_paths,\n",
    "    with_progress_bar = false,\n",
    "    brownian_increments = DiffFusion.sobol_brownian_increments,\n",
    ");"
   ]
  },
  {
   "cell_type": "markdown",
   "metadata": {},
   "source": [
    "We can inspect the simulated state variables. Data is stored in the `X` element of the simulation.\n",
    "\n",
    "The variable `X` is a 3-dim array of size `(n_states, n_paths, n_times)`.\n",
    "\n",
    "Number of states `n_states` are specified by the model."
   ]
  },
  {
   "cell_type": "code",
   "execution_count": null,
   "metadata": {},
   "outputs": [],
   "source": [
    "DiffFusion.state_alias(model)"
   ]
  },
  {
   "cell_type": "markdown",
   "metadata": {},
   "source": [
    "Number of paths `n_paths` and number of simulation times `n_times` are properties of the MC simulation."
   ]
  },
  {
   "cell_type": "code",
   "execution_count": null,
   "metadata": {},
   "outputs": [],
   "source": [
    "size(sim.X)"
   ]
  },
  {
   "cell_type": "markdown",
   "metadata": {},
   "source": [
    "For illustration, we plot the simulated paths of the $x$ variable."
   ]
  },
  {
   "cell_type": "code",
   "execution_count": null,
   "metadata": {},
   "outputs": [],
   "source": [
    "plot(\n",
    "    times,\n",
    "    sim.X[1, 1:8, :]',\n",
    "    title = \"Simulated Paths\",\n",
    "    label = nothing,\n",
    "    xlabel = \"simulation time\",\n",
    "    ylabel = \"simulated value\",\n",
    ")"
   ]
  },
  {
   "cell_type": "markdown",
   "metadata": {},
   "source": [
    "## Term Structures, Context and Path\n",
    "\n",
    "To use a simulation for pricing we need to link market data, model, simulation and products.\n",
    "\n",
    "This step is realised by a `Context` object and a `Path` object."
   ]
  },
  {
   "cell_type": "markdown",
   "metadata": {},
   "source": [
    "As a first step, we define curves that we need for pricing.\n",
    "\n",
    "We keep things simple for this example and only use a discount and projection yield curve."
   ]
  },
  {
   "cell_type": "code",
   "execution_count": null,
   "metadata": {},
   "outputs": [],
   "source": [
    "yc_estr = DiffFusion.zero_curve(\n",
    "    \"yc/EUR:ESTR\",\n",
    "    [1.0, 3.0, 6.0, 10.0],\n",
    "    [1.0, 1.0, 1.0,  1.0] .* 1e-2,\n",
    ")\n",
    "yc_euribor6m = DiffFusion.zero_curve(\n",
    "    \"yc/EUR:EURIBOR6M\",\n",
    "    [1.0, 3.0, 6.0, 10.0],\n",
    "    [2.0, 2.0, 2.0,  2.0] .* 1e-2,\n",
    ")\n",
    "\n",
    "ts_list = [\n",
    "    yc_estr,\n",
    "    yc_euribor6m,\n",
    "];"
   ]
  },
  {
   "cell_type": "markdown",
   "metadata": {},
   "source": [
    "The `Context` links the *keys* in the products to the *aliases* of models and term structures."
   ]
  },
  {
   "cell_type": "code",
   "execution_count": null,
   "metadata": {},
   "outputs": [],
   "source": [
    "_empty_key = DiffFusion._empty_context_key\n",
    "context = DiffFusion.Context(\n",
    "    \"Std\",\n",
    "    DiffFusion.NumeraireEntry(\"EUR\", \"md/EUR\", Dict(_empty_key => \"yc/EUR:ESTR\")),\n",
    "    Dict{String, DiffFusion.RatesEntry}([\n",
    "        (\"EUR\", DiffFusion.RatesEntry(\"EUR\", \"md/EUR\", Dict(\n",
    "            _empty_key  => \"yc/EUR:ESTR\",\n",
    "            \"ESTR\"      => \"yc/EUR:ESTR\",\n",
    "            \"EURIBOR6M\" => \"yc/EUR:EURIBOR6M\",\n",
    "        ))),\n",
    "    ]),\n",
    "    Dict{String, DiffFusion.AssetEntry}(),\n",
    "    Dict{String, DiffFusion.ForwardIndexEntry}(),\n",
    "    Dict{String, DiffFusion.FutureIndexEntry}(),\n",
    "    Dict{String, DiffFusion.FixingEntry}(),\n",
    ");"
   ]
  },
  {
   "cell_type": "markdown",
   "metadata": {},
   "source": [
    "The `Path` combines the various components involves."
   ]
  },
  {
   "cell_type": "code",
   "execution_count": null,
   "metadata": {},
   "outputs": [],
   "source": [
    "path = DiffFusion.path(sim, ts_list, context, DiffFusion.LinearPathInterpolation);"
   ]
  },
  {
   "cell_type": "markdown",
   "metadata": {},
   "source": [
    "## Product Setup\n",
    "\n",
    "We illustrate product setup in three steps:\n",
    "\n",
    "1. Cash flows and Vanilla swap.\n",
    "\n",
    "2. Co-terminal European swaptions.\n",
    "\n",
    "3. Bermudan swaption.\n"
   ]
  },
  {
   "cell_type": "markdown",
   "metadata": {},
   "source": [
    "### Cash Flows and Vanilla Swap\n",
    "\n",
    "We use a spot-starting 10y Vanilla swap exchanging 6m Euribor versus fixes as our example instrument.\n",
    "\n",
    "(To keep things simple, we omit spot lag and fixing lag in this example.)\n",
    "\n",
    "In a first step, we need to specify the fixed and floating rate cash flows."
   ]
  },
  {
   "cell_type": "code",
   "execution_count": null,
   "metadata": {},
   "outputs": [],
   "source": [
    "fixed_flows = [\n",
    "    DiffFusion.FixedRateCoupon( 1.0, 0.02, 1.0),\n",
    "    DiffFusion.FixedRateCoupon( 2.0, 0.02, 1.0),\n",
    "    DiffFusion.FixedRateCoupon( 3.0, 0.02, 1.0),\n",
    "    DiffFusion.FixedRateCoupon( 4.0, 0.02, 1.0),\n",
    "    DiffFusion.FixedRateCoupon( 5.0, 0.02, 1.0),\n",
    "    DiffFusion.FixedRateCoupon( 6.0, 0.02, 1.0),\n",
    "    DiffFusion.FixedRateCoupon( 7.0, 0.02, 1.0),\n",
    "    DiffFusion.FixedRateCoupon( 8.0, 0.02, 1.0),\n",
    "    DiffFusion.FixedRateCoupon( 9.0, 0.02, 1.0),\n",
    "    DiffFusion.FixedRateCoupon(10.0, 0.02, 1.0),\n",
    "];\n",
    "\n",
    "libor_flows = [\n",
    "    DiffFusion.SimpleRateCoupon(0.0, 0.0, 0.5, 0.5, 0.5, \"EUR:EURIBOR6M\", nothing, nothing),\n",
    "    DiffFusion.SimpleRateCoupon(0.5, 0.5, 1.0, 1.0, 0.5, \"EUR:EURIBOR6M\", nothing, nothing),\n",
    "    DiffFusion.SimpleRateCoupon(1.0, 1.0, 1.5, 1.5, 0.5, \"EUR:EURIBOR6M\", nothing, nothing),\n",
    "    DiffFusion.SimpleRateCoupon(1.5, 1.5, 2.0, 2.0, 0.5, \"EUR:EURIBOR6M\", nothing, nothing),\n",
    "    DiffFusion.SimpleRateCoupon(2.0, 2.0, 2.5, 2.5, 0.5, \"EUR:EURIBOR6M\", nothing, nothing),\n",
    "    DiffFusion.SimpleRateCoupon(2.5, 2.5, 3.0, 3.0, 0.5, \"EUR:EURIBOR6M\", nothing, nothing),\n",
    "    DiffFusion.SimpleRateCoupon(3.0, 3.0, 3.5, 3.5, 0.5, \"EUR:EURIBOR6M\", nothing, nothing),\n",
    "    DiffFusion.SimpleRateCoupon(3.5, 3.5, 4.0, 4.0, 0.5, \"EUR:EURIBOR6M\", nothing, nothing),\n",
    "    DiffFusion.SimpleRateCoupon(4.0, 4.0, 4.5, 4.5, 0.5, \"EUR:EURIBOR6M\", nothing, nothing),\n",
    "    DiffFusion.SimpleRateCoupon(4.5, 4.5, 5.0, 5.0, 0.5, \"EUR:EURIBOR6M\", nothing, nothing),\n",
    "    DiffFusion.SimpleRateCoupon(5.0, 5.0, 5.5, 5.5, 0.5, \"EUR:EURIBOR6M\", nothing, nothing),\n",
    "    DiffFusion.SimpleRateCoupon(5.5, 5.5, 6.0, 6.0, 0.5, \"EUR:EURIBOR6M\", nothing, nothing),\n",
    "    DiffFusion.SimpleRateCoupon(6.0, 6.0, 6.5, 6.5, 0.5, \"EUR:EURIBOR6M\", nothing, nothing),\n",
    "    DiffFusion.SimpleRateCoupon(6.5, 6.5, 7.0, 7.0, 0.5, \"EUR:EURIBOR6M\", nothing, nothing),\n",
    "    DiffFusion.SimpleRateCoupon(7.0, 7.0, 7.5, 7.5, 0.5, \"EUR:EURIBOR6M\", nothing, nothing),\n",
    "    DiffFusion.SimpleRateCoupon(7.5, 7.5, 8.0, 8.0, 0.5, \"EUR:EURIBOR6M\", nothing, nothing),\n",
    "    DiffFusion.SimpleRateCoupon(8.0, 8.0, 8.5, 8.5, 0.5, \"EUR:EURIBOR6M\", nothing, nothing),\n",
    "    DiffFusion.SimpleRateCoupon(8.5, 8.5, 9.0, 9.0, 0.5, \"EUR:EURIBOR6M\", nothing, nothing),\n",
    "    DiffFusion.SimpleRateCoupon(9.0, 9.0, 9.5, 9.5, 0.5, \"EUR:EURIBOR6M\", nothing, nothing),\n",
    "    DiffFusion.SimpleRateCoupon(9.5, 9.5, 10.0, 10.0, 0.5, \"EUR:EURIBOR6M\", nothing, nothing),\n",
    "];"
   ]
  },
  {
   "cell_type": "markdown",
   "metadata": {},
   "source": [
    "Cash flows are combined into cash flow legs.\n",
    "\n",
    "Cash flow legs decorate cash flows with details about notional, discounting, FX conversion and payer vs. receiver."
   ]
  },
  {
   "cell_type": "code",
   "execution_count": null,
   "metadata": {},
   "outputs": [],
   "source": [
    "fixed_notionals = 10_000.00 * ones(length(fixed_flows))\n",
    "fixed_leg = DiffFusion.cashflow_leg(\n",
    "    \"leg/1\", fixed_flows, fixed_notionals, \"EUR:ESTR\", nothing,  1.0,\n",
    ")\n",
    "\n",
    "libor_notionals = 10_000.00 * ones(length(libor_flows))\n",
    "libor_leg = DiffFusion.cashflow_leg(\n",
    "    \"leg/2\", libor_flows, libor_notionals, \"EUR:ESTR\", nothing,  -1.0\n",
    ");"
   ]
  },
  {
   "cell_type": "markdown",
   "metadata": {},
   "source": [
    "A Vanilla swap is the just a collection of cash flow legs."
   ]
  },
  {
   "cell_type": "code",
   "execution_count": null,
   "metadata": {},
   "outputs": [],
   "source": [
    "vanilla_swap = [ fixed_leg, libor_leg ]"
   ]
  },
  {
   "cell_type": "markdown",
   "metadata": {},
   "source": [
    "### European Swaptions\n",
    "\n",
    "We consider co-terminal swaptions at 2y, 4y, 6y and 8y expiries.\n",
    "\n",
    "To simplify setup er define a short-cut function for create the swaptions.\n"
   ]
  },
  {
   "cell_type": "code",
   "execution_count": null,
   "metadata": {},
   "outputs": [],
   "source": [
    "payer_receiver = -1.0\n",
    "swap_disc_curve_key = \"EUR:ESTR\"\n",
    "settlement_type = DiffFusion.SwaptionPhysicalSettlement\n",
    "notional = 10_000.00\n",
    "\n",
    "swpt_disc_curve_key = \"EUR:ESTR\"\n",
    "swpt_fx_key = nothing\n",
    "swpt_long_short = 1.0\n",
    "\n",
    "make_swaption(_alias, _expiry_time, _libor_coupons, _fixed_coupons, ) = DiffFusion.SwaptionLeg(\n",
    "    _alias,\n",
    "    _expiry_time,\n",
    "    _expiry_time, # settlement_time\n",
    "    _libor_coupons,\n",
    "    _fixed_coupons,\n",
    "    payer_receiver,\n",
    "    swap_disc_curve_key,\n",
    "    settlement_type,\n",
    "    notional,\n",
    "    swpt_disc_curve_key,\n",
    "    swpt_fx_key,\n",
    "    swpt_long_short,\n",
    ")"
   ]
  },
  {
   "cell_type": "code",
   "execution_count": null,
   "metadata": {},
   "outputs": [],
   "source": [
    "swaption_2y = make_swaption(\"leg/swpn/2y\", 2.0, libor_flows[5:end], fixed_flows[3:end])\n",
    "swaption_4y = make_swaption(\"leg/swpn/4y\", 4.0, libor_flows[9:end], fixed_flows[5:end])\n",
    "swaption_6y = make_swaption(\"leg/swpn/6y\", 6.0, libor_flows[13:end], fixed_flows[7:end])\n",
    "swaption_8y = make_swaption(\"leg/swpn/8y\", 8.0, libor_flows[17:end], fixed_flows[9:end]);"
   ]
  },
  {
   "cell_type": "markdown",
   "metadata": {},
   "source": [
    "### Bermudan Swaption\n",
    "\n",
    "We consider a Bermudan option to enter into a 10y swap with first exercise in 2y (10-nc-2) and exercise every two years.\n",
    "\n",
    "A Bermudan swaption is specified by a list of `BermudanExercise` objects.\n",
    "\n",
    "A `BermudanExercise` object encapsulates\n",
    " - exercise time,\n",
    " - swap (i.e. legs) to enter into, and\n",
    " - method to calculate regression variables."
   ]
  },
  {
   "cell_type": "markdown",
   "metadata": {},
   "source": [
    "We use a simple co-terminal Libor rate as regression variable. Note that for a one-factor model the particular choice of regression variable is less relevant."
   ]
  },
  {
   "cell_type": "code",
   "execution_count": null,
   "metadata": {},
   "outputs": [],
   "source": [
    "make_regression_variables(t) = [ DiffFusion.LiborRate(t, t, 10.0, \"EUR:EURIBOR6M\"), ]"
   ]
  },
  {
   "cell_type": "markdown",
   "metadata": {},
   "source": [
    "The swaption underlyings are forward-starting swaps."
   ]
  },
  {
   "cell_type": "code",
   "execution_count": null,
   "metadata": {},
   "outputs": [],
   "source": [
    "swap_2y_10y = [\n",
    "    DiffFusion.cashflow_leg(\"leg/fixed/2y-10y\",fixed_flows[3:end], fixed_notionals[3:end], \"EUR:ESTR\", nothing,  1.0),  # receiver\n",
    "    DiffFusion.cashflow_leg(\"leg/libor/2y-10y\",libor_flows[5:end], libor_notionals[5:end], \"EUR:ESTR\", nothing, -1.0),  # payer\n",
    "]\n",
    "\n",
    "swap_4y_10y = [\n",
    "    DiffFusion.cashflow_leg(\"leg/fixed/4y-10y\",fixed_flows[5:end], fixed_notionals[5:end], \"EUR:ESTR\", nothing,  1.0),  # receiver\n",
    "    DiffFusion.cashflow_leg(\"leg/libor/4y-10y\",libor_flows[9:end], libor_notionals[9:end], \"EUR:ESTR\", nothing, -1.0),  # payer\n",
    "]\n",
    "\n",
    "swap_6y_10y = [\n",
    "    DiffFusion.cashflow_leg(\"leg/fixed/6y-10y\",fixed_flows[7:end], fixed_notionals[7:end], \"EUR:ESTR\", nothing,  1.0),  # receiver\n",
    "    DiffFusion.cashflow_leg(\"leg/libor/6y-10y\",libor_flows[13:end], libor_notionals[13:end], \"EUR:ESTR\", nothing, -1.0),  # payer\n",
    "]\n",
    "\n",
    "swap_8y_10y = [\n",
    "    DiffFusion.cashflow_leg(\"leg/fixed/6y-10y\",fixed_flows[9:end], fixed_notionals[9:end], \"EUR:ESTR\", nothing,  1.0),  # receiver\n",
    "    DiffFusion.cashflow_leg(\"leg/libor/6y-10y\",libor_flows[17:end], libor_notionals[17:end], \"EUR:ESTR\", nothing, -1.0),  # payer\n",
    "];"
   ]
  },
  {
   "cell_type": "markdown",
   "metadata": {},
   "source": [
    "For each underlying, we setup an exercise object."
   ]
  },
  {
   "cell_type": "code",
   "execution_count": null,
   "metadata": {},
   "outputs": [],
   "source": [
    "exercise_2y = DiffFusion.bermudan_exercise(2.0, swap_2y_10y, make_regression_variables)\n",
    "exercise_4y = DiffFusion.bermudan_exercise(4.0, swap_4y_10y, make_regression_variables)\n",
    "exercise_6y = DiffFusion.bermudan_exercise(6.0, swap_6y_10y, make_regression_variables)\n",
    "exercise_8y = DiffFusion.bermudan_exercise(8.0, swap_8y_10y, make_regression_variables);"
   ]
  },
  {
   "cell_type": "markdown",
   "metadata": {},
   "source": [
    "Finally, we can setup the Bermudan swaption."
   ]
  },
  {
   "cell_type": "code",
   "execution_count": null,
   "metadata": {},
   "outputs": [],
   "source": [
    "berm = DiffFusion.bermudan_swaption_leg(\n",
    "    \"berm/10-nc-2\",\n",
    "    [ exercise_2y, exercise_4y, exercise_6y, exercise_8y, ],\n",
    "    # [ exercise_2y, ],\n",
    "    1.0, # long option\n",
    "    \"\", # default discounting (curve key)\n",
    "    make_regression_variables,\n",
    "    nothing, # path\n",
    "    nothing, # make_regression\n",
    ");"
   ]
  },
  {
   "cell_type": "markdown",
   "metadata": {},
   "source": [
    "### American Monte Carlo Setup\n",
    "\n",
    "Bermudan swaption pricing requires AMC methods. AMC methods are based on regression. And regression is specified by regression method and a MC simulation for regression calibration.\n",
    "\n",
    "In order to avoid bias in our simulation, we should use a regression calibration simulation independent from the base simulation. To simplify the setup for this example, we chose to re-use the base simulation (and corresponding `Path` object) for regression calibration.\n",
    "\n",
    "Regression method is polynomial regression."
   ]
  },
  {
   "cell_type": "code",
   "execution_count": null,
   "metadata": {},
   "outputs": [],
   "source": [
    "make_regression = (C, O) -> DiffFusion.polynomial_regression(C, O, 2)\n",
    "# make_regression = (C, O) -> DiffFusion.piecewise_regression(C, O, 2, [3])"
   ]
  },
  {
   "cell_type": "markdown",
   "metadata": {},
   "source": [
    "We update the Bermudan swaption with the details for regression calibration."
   ]
  },
  {
   "cell_type": "code",
   "execution_count": null,
   "metadata": {},
   "outputs": [],
   "source": [
    "DiffFusion.reset_regression!(berm, path, make_regression)"
   ]
  },
  {
   "cell_type": "markdown",
   "metadata": {},
   "source": [
    "## Scenario Calculation\n",
    "\n",
    "Now, we have all ingredients to calculate prices of our instruments along the simulated paths of the model.\n",
    "\n",
    "Scenario calculation is implemented in the `scenarios` function.\n",
    "\n",
    "To get some intuition about our simulated scenario prices we plot the results along the paths. We can use the interest rate state variable of our one-factor model to illustrate the dependency of scenario prices on changes in interest rates."
   ]
  },
  {
   "cell_type": "code",
   "execution_count": null,
   "metadata": {},
   "outputs": [],
   "source": [
    "n_plot_paths = 2^7\n",
    "\n",
    "make_plot(_scens) = plot(\n",
    "    times,\n",
    "    sim.X[1, 1:n_plot_paths, :]',\n",
    "    _scens.X[1:n_plot_paths, :, 1]',\n",
    "    title = \"price \" * _scens.leg_aliases[1],\n",
    "    label = nothing,\n",
    "    xlabel = \"simulation time\",\n",
    "    ylabel = \"state variable\",\n",
    "    zlabel = \"simulated value\",\n",
    "    size = (800, 600),\n",
    ")"
   ]
  },
  {
   "cell_type": "markdown",
   "metadata": {},
   "source": [
    "### Vanilla Swap"
   ]
  },
  {
   "cell_type": "code",
   "execution_count": null,
   "metadata": {},
   "outputs": [],
   "source": [
    "scens = DiffFusion.scenarios(vanilla_swap, times, path, \"\", with_progress_bar=false);\n",
    "vanilla_swap_scens = DiffFusion.aggregate(scens, false, true)\n",
    "vanilla_swap_scens.leg_aliases[1] = \"vanilla_swap\"\n",
    "make_plot(vanilla_swap_scens)"
   ]
  },
  {
   "cell_type": "markdown",
   "metadata": {},
   "source": [
    "We see the expected result that the simulated swap prices are (almost) linear in interest rates. Moreover, swap prices approach zero when simulation times reaches the swap maturity in 10 years."
   ]
  },
  {
   "cell_type": "markdown",
   "metadata": {},
   "source": [
    "### European Swaptions"
   ]
  },
  {
   "cell_type": "code",
   "execution_count": null,
   "metadata": {},
   "outputs": [],
   "source": [
    "swaption_2y_scens = DiffFusion.scenarios([swaption_2y], times, path, \"\", with_progress_bar=false)\n",
    "make_plot(swaption_2y_scens)"
   ]
  },
  {
   "cell_type": "code",
   "execution_count": null,
   "metadata": {},
   "outputs": [],
   "source": [
    "swaption_4y_scens = DiffFusion.scenarios([swaption_4y], times, path, \"\", with_progress_bar=false)\n",
    "make_plot(swaption_4y_scens)"
   ]
  },
  {
   "cell_type": "code",
   "execution_count": null,
   "metadata": {},
   "outputs": [],
   "source": [
    "swaption_6y_scens = DiffFusion.scenarios([swaption_6y], times, path, \"\", with_progress_bar=false)\n",
    "make_plot(swaption_6y_scens)"
   ]
  },
  {
   "cell_type": "code",
   "execution_count": null,
   "metadata": {},
   "outputs": [],
   "source": [
    "swaption_8y_scens = DiffFusion.scenarios([swaption_8y], times, path, \"\", with_progress_bar=false)\n",
    "make_plot(swaption_8y_scens)"
   ]
  },
  {
   "cell_type": "markdown",
   "metadata": {},
   "source": [
    "We find that scenario prices for European swaptions are all non-negative until option expiry.\n",
    "\n",
    "After option expiry, some paths lead to negative scenario prices. These paths correspond to realisations where the option is exercised into the swap at option expiry. Then, interest rates increase and the fixed receiver swap price becomes negative. "
   ]
  },
  {
   "cell_type": "markdown",
   "metadata": {},
   "source": [
    "### Bermudan Swaption"
   ]
  },
  {
   "cell_type": "code",
   "execution_count": null,
   "metadata": {},
   "outputs": [],
   "source": [
    "berm_scens = DiffFusion.scenarios([berm], times, path, \"\", with_progress_bar=false)\n",
    "make_plot(berm_scens)"
   ]
  },
  {
   "cell_type": "markdown",
   "metadata": {},
   "source": [
    "The Bermudan swaption scenario prices look very similar to the European swaption scenario prices. This is expected because the majority portion of the Bermudan price is specified by the corresponding max-European price.\n",
    "\n",
    "We observe that for some paths with very high interest rates the Bermudan option prices increase even though the option is far out of the money. This is an example of a known limitation of the AMC method and (quadratic) polynomial regression. This limitation can be mitigated by more instrument-specific regression variables or alternative regression parametrisations."
   ]
  },
  {
   "cell_type": "markdown",
   "metadata": {},
   "source": [
    "## Aggregation and XVA Calculation\n",
    "\n",
    "Finally, we can calculate risk measures like expected exposure (EE) which are the basis for various XVA calculations."
   ]
  },
  {
   "cell_type": "code",
   "execution_count": null,
   "metadata": {},
   "outputs": [],
   "source": [
    "vanilla_swap_ee = DiffFusion.expected_exposure(vanilla_swap_scens)\n",
    "swaption_2y_ee = DiffFusion.expected_exposure(swaption_2y_scens)\n",
    "swaption_4y_ee = DiffFusion.expected_exposure(swaption_4y_scens)\n",
    "swaption_6y_ee = DiffFusion.expected_exposure(swaption_6y_scens)\n",
    "swaption_8y_ee = DiffFusion.expected_exposure(swaption_8y_scens)\n",
    "berm_ee =  DiffFusion.expected_exposure(berm_scens);"
   ]
  },
  {
   "cell_type": "markdown",
   "metadata": {},
   "source": [
    "We plot the EE for our example instruments."
   ]
  },
  {
   "cell_type": "code",
   "execution_count": null,
   "metadata": {},
   "outputs": [],
   "source": [
    "plot(\n",
    "    times,\n",
    "    [\n",
    "        vanilla_swap_ee.X[1,:,1],\n",
    "        swaption_2y_ee.X[1,:,1],\n",
    "        swaption_4y_ee.X[1,:,1],\n",
    "        swaption_6y_ee.X[1,:,1],\n",
    "        swaption_8y_ee.X[1,:,1],\n",
    "        berm_ee.X[1,:,1] ],\n",
    "    title = \"Expected Exposure\",\n",
    "    label = hcat(\n",
    "        vanilla_swap_ee.leg_aliases[1],\n",
    "        swaption_2y_ee.leg_aliases[1],\n",
    "        swaption_4y_ee.leg_aliases[1],\n",
    "        swaption_6y_ee.leg_aliases[1],\n",
    "        swaption_8y_ee.leg_aliases[1],\n",
    "        berm_ee.leg_aliases[1],\n",
    "    ),\n",
    "    xlabel = \"simulation time\",\n",
    "    ylabel = \"simulated value\",\n",
    "    size = (800, 600),\n",
    ")"
   ]
  },
  {
   "cell_type": "markdown",
   "metadata": {},
   "source": [
    "We see how the swaption EE relates to the EE of the Vanilla swap. The *seasonal pattern* in the graphs corresponds to the coupon cash flows of the instruments.\n",
    "\n",
    "For the swaptions, we can also observe that prior to (first) expiry the EE is constant. This is a confirmation of the martingale property of discounted derivative prices.\n",
    "\n",
    "Furthermore, we see that the Bermudan swaption EE is larger than the maximum European EE. This observations also confirms theoretical considerations about a positive switch option value."
   ]
  }
 ],
 "metadata": {
  "kernelspec": {
   "display_name": "Julia 1.9.0",
   "language": "julia",
   "name": "julia-1.9"
  },
  "language_info": {
   "file_extension": ".jl",
   "mimetype": "application/julia",
   "name": "julia",
   "version": "1.9.0"
  }
 },
 "nbformat": 4,
 "nbformat_minor": 2
}
