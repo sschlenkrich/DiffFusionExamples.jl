{
 "cells": [
  {
   "cell_type": "markdown",
   "metadata": {},
   "source": [
    "# CollateralisedCrossCurrencySwap\n",
    "\n",
    "In this notebook, we illustrate the collateral and exposure simulation with DiffFusion.jl."
   ]
  },
  {
   "cell_type": "markdown",
   "metadata": {},
   "source": [
    "## Incorporating DiffFusion.jl\n",
    "\n",
    "We setup a Julia project environment in the current directory."
   ]
  },
  {
   "cell_type": "code",
   "execution_count": null,
   "metadata": {},
   "outputs": [],
   "source": [
    "using Pkg\n",
    "Pkg.activate(\"../.\")"
   ]
  },
  {
   "cell_type": "markdown",
   "metadata": {},
   "source": [
    "We need to incorporate the DiffFusion package."
   ]
  },
  {
   "cell_type": "code",
   "execution_count": null,
   "metadata": {},
   "outputs": [],
   "source": [
    "using DiffFusion"
   ]
  },
  {
   "cell_type": "markdown",
   "metadata": {},
   "source": [
    "And use some further packages."
   ]
  },
  {
   "cell_type": "code",
   "execution_count": null,
   "metadata": {},
   "outputs": [],
   "source": [
    "using Plots\n",
    "gr()\n",
    "# plotlyjs()"
   ]
  },
  {
   "cell_type": "markdown",
   "metadata": {},
   "source": [
    "## Model Setup\n",
    "\n",
    "For this example, we a hybrid model. Hybrid model is loaded and build from the DiffFusion.jl *Examples* sub-module. \n",
    "\n",
    "The pre-specified model can easily be replaced by alternative models and model parameter settings."
   ]
  },
  {
   "cell_type": "code",
   "execution_count": null,
   "metadata": {},
   "outputs": [],
   "source": [
    "ex = DiffFusion.Examples.load(\"g3_1factor_flat\")\n",
    "ex = DiffFusion.Examples.build(ex)\n",
    "ts = DiffFusion.Examples.term_structures(ex)"
   ]
  },
  {
   "cell_type": "markdown",
   "metadata": {},
   "source": [
    "## Monte Carlo Simulation and Path Setup\n",
    "\n",
    "We simulate state variables on a specified time grid and create a `Path` object for subsequent scenario pricing."
   ]
  },
  {
   "cell_type": "code",
   "execution_count": null,
   "metadata": {},
   "outputs": [],
   "source": [
    "times = 0.0:1.0/48:5.0\n",
    "n_paths = 2^13\n",
    "sim = DiffFusion.simple_simulation(ex[\"md/G3\"], ex[\"ch/STD\"], times, n_paths, with_progress_bar = false)\n",
    "path = DiffFusion.path(sim, ts, ex[\"ct/STD\"], DiffFusion.LinearPathInterpolation)"
   ]
  },
  {
   "cell_type": "markdown",
   "metadata": {},
   "source": [
    "## Product Setup\n",
    "\n",
    "Our cross currency swap is composed of individual coupons. The coupons are then aggregated into legs."
   ]
  },
  {
   "cell_type": "code",
   "execution_count": null,
   "metadata": {},
   "outputs": [],
   "source": [
    "coupon_times = 0.0:0.25:5.0\n",
    "\n",
    "usd_coupons = [\n",
    "    DiffFusion.CompoundedRateCoupon([s, e], [e-s], e, \"USD:SOFR\", nothing, nothing)\n",
    "    for (s, e) in zip(coupon_times[1:end-1], coupon_times[2:end])\n",
    "]\n",
    "usd_floorlets = [\n",
    "    DiffFusion.OptionletCoupon(cp, 0.0, -1.0) for cp in usd_coupons\n",
    "]\n",
    "usd_coupons_floored = [\n",
    "    cp + fl for (cp, fl) in zip(usd_coupons, usd_floorlets)\n",
    "]\n",
    "eur_coupons = [\n",
    "    DiffFusion.CompoundedRateCoupon([s, e], [e-s], e, \"EUR:ESTR\", nothing, 0.0050)\n",
    "    for (s, e) in zip(coupon_times[1:end-1], coupon_times[2:end])\n",
    "]\n",
    "\n",
    "eur_leg = DiffFusion.cashflow_leg(\"leg/ESTR\", eur_coupons, 10_000.00, \"EUR:XCCY\", \"EUR-USD\", +1.0)\n",
    "#\n",
    "usd_const_leg = DiffFusion.cashflow_leg(\"leg/SOFR/CN\", usd_coupons, 10_000.00 * 1.07, \"USD:SOFR\", nothing, -1.0)\n",
    "#\n",
    "usd_mtm_leg = DiffFusion.mtm_cashflow_leg(\"leg/SOFR/MTM\", usd_const_leg, 10_000.00, 0.0, \"EUR:XCCY\", \"EUR-USD\")\n",
    "\n",
    "# final notional exchange are only used for ad-hoc comparison\n",
    "eur_notional_leg = DiffFusion.cashflow_leg(\n",
    "    \"leg/EUR/NTL\", \n",
    "    [ DiffFusion.FixedCashFlow(5.0, 1.0) ],\n",
    "    10_000.00,\n",
    "    \"EUR:XCCY\",\n",
    "    \"EUR-USD\",\n",
    "    -1.0,\n",
    ")\n",
    "usd_notional_leg = DiffFusion.cashflow_leg(\n",
    "    \"leg/USD/NTL\", \n",
    "    [ DiffFusion.FixedCashFlow(5.0, 1.0) ],\n",
    "    10_000.00 * 1.07,\n",
    "    \"USD:SOFR\",\n",
    "    nothing,\n",
    "    +1.0,\n",
    ")"
   ]
  },
  {
   "cell_type": "markdown",
   "metadata": {},
   "source": [
    "A swap instrument is represented by a list of cash flow legs. The standard mark-to-market cross currency swap consists of the (constant notional) EUR leg and the USD leg with notional reset.\n",
    "\n",
    "Other constellations and specifications can be activated by uncommenting the `swap` definition below."
   ]
  },
  {
   "cell_type": "code",
   "execution_count": null,
   "metadata": {},
   "outputs": [],
   "source": [
    "swap = [eur_leg, usd_mtm_leg]\n",
    "#\n",
    "# swap = [usd_const_floor_leg]\n",
    "# swap = [eur_leg, usd_mtm_leg, usd_mtm_floor_leg]\n",
    "# swap = [eur_leg, usd_const_leg, eur_notional_leg, usd_notional_leg]\n",
    "# swap = [eur_leg, usd_const_leg]\n",
    "# swap = [eur_notional_leg, usd_notional_leg]"
   ]
  },
  {
   "cell_type": "markdown",
   "metadata": {},
   "source": [
    "## Scenario Calculation\n",
    "\n",
    "We calculate un-discounted scenario prices for our reference swap."
   ]
  },
  {
   "cell_type": "code",
   "execution_count": null,
   "metadata": {},
   "outputs": [],
   "source": [
    "scens1 = DiffFusion.scenarios(swap, times, path, nothing, with_progress_bar = false)"
   ]
  },
  {
   "cell_type": "markdown",
   "metadata": {},
   "source": [
    "## Collateral Simulation\n",
    "\n",
    "A collateral balance account is simulated based on an initial `ScenarioCube`. The initial `ScenarioCube` represents the *netting set* over which  "
   ]
  },
  {
   "cell_type": "code",
   "execution_count": null,
   "metadata": {},
   "outputs": [],
   "source": [
    "scens2 = DiffFusion.collateralised_portfolio(\n",
    "    scens1,\n",
    "    nothing, # fx_rates (ScenarioCube), if scenario prices need to be converted in foreign currency \n",
    "    times,\n",
    "    0.0, # initial_collateral_balance\n",
    "    0.0, # minimum_transfer_amount\n",
    "    0.0, # threshold_amount\n",
    "    0.0, # independent_amount\n",
    "    2/48.0, # mpr\n",
    ")"
   ]
  },
  {
   "cell_type": "markdown",
   "metadata": {},
   "source": [
    "We can inspect the legs that are stored in the new scenario cube."
   ]
  },
  {
   "cell_type": "code",
   "execution_count": null,
   "metadata": {},
   "outputs": [],
   "source": [
    "scens2.leg_aliases"
   ]
  },
  {
   "cell_type": "markdown",
   "metadata": {},
   "source": [
    "The first and second leg corresponds to the cross currency swap. The third leg represents the collateral balance over time.\n",
    "\n",
    "We illustrate the collateral balance by plotting its mean over simulation time."
   ]
  },
  {
   "cell_type": "code",
   "execution_count": null,
   "metadata": {},
   "outputs": [],
   "source": [
    "scens2_agg = DiffFusion.aggregate(scens2, true, false)\n",
    "plot(\n",
    "    times,\n",
    "    scens2_agg.X[1,:,3],\n",
    "    title = \"Collateral balance\",\n",
    "    label = scens2_agg.leg_aliases[3],\n",
    "    xlabel = \"simulation time\",\n",
    "    ylabel = \"simulated value\",\n",
    "    size = (800, 600),\n",
    ")"
   ]
  },
  {
   "cell_type": "markdown",
   "metadata": {},
   "source": [
    "## Analysis of Collateralised Swap\n",
    "\n",
    "We compare simulated paths and exposures for the collateralised swap and the uncollateralised swap."
   ]
  },
  {
   "cell_type": "code",
   "execution_count": null,
   "metadata": {},
   "outputs": [],
   "source": [
    "\"\"\"\n",
    "Create an animated plot that compares analytics for two input scenarios\n",
    "\"\"\"\n",
    "function compare_scenarios(\n",
    "    scens1::DiffFusion.ScenarioCube,\n",
    "    scens2::DiffFusion.ScenarioCube;\n",
    "    plot_title::String = \"Scenario Analysis\",\n",
    "    sub_plot_title1::String = \"first portfolio\",\n",
    "    sub_plot_title2::String = \"second portfolio\",\n",
    "    xlabel::String = \"observation time (years)\",\n",
    "    ylabel::String = \"market value\",\n",
    "    xlims::Tuple = (0.0, 10.0),\n",
    "    ylims::Tuple = (-10_000., +10_000.),\n",
    "    font_size::Integer = 10,\n",
    "    plot_size::Tuple = (600, 800),\n",
    "    first_paths::Integer = 8,\n",
    "    second_paths::Integer = 128,\n",
    "    wait_seconds::Integer = 4,\n",
    "    pfe_quantile = 0.95,\n",
    "    line_width = 2,\n",
    "    )\n",
    "    #\n",
    "    @info \"Calculate analytics for first scenarios.\"\n",
    "    scens1_agg = DiffFusion.aggregate(scens1, false, true)\n",
    "    scens1_mv = DiffFusion.aggregate(scens1, true, true)\n",
    "    scens1_ee = DiffFusion.expected_exposure(scens1, false, true, true)\n",
    "    scens1_pfe = DiffFusion.potential_future_exposure(scens1, pfe_quantile)\n",
    "    #\n",
    "    @info \"Calculate analytics for second scenarios.\"\n",
    "    scens2_agg = DiffFusion.aggregate(scens2, false, true)\n",
    "    scens2_mv = DiffFusion.aggregate(scens2, true, true)\n",
    "    scens2_ee = DiffFusion.expected_exposure(scens2, false, true, true)\n",
    "    scens2_pfe = DiffFusion.potential_future_exposure(scens2, 0.95)\n",
    "    #\n",
    "    a = Animation()\n",
    "    #\n",
    "    # we define some auxilliary functions...    \n",
    "    #\n",
    "    function wait(n_seconds, p)\n",
    "        for i ∈ 1:n_seconds\n",
    "            frame(a, p)\n",
    "        end    \n",
    "    end\n",
    "    #\n",
    "    function super_plot(p1, p2)\n",
    "        return  plot(p1, p2,\n",
    "            layout = (2,1),\n",
    "            size = plot_size,\n",
    "            plot_title = plot_title,\n",
    "            plot_titlefontsize = font_size,\n",
    "            left_margin = 5Plots.mm  # adjust this if xaxis label is cut off\n",
    "        )\n",
    "    end\n",
    "    #\n",
    "    function plot_paths(with_frame)\n",
    "        p1 = plot(\n",
    "            title = sub_plot_title1,\n",
    "            titlefontsize = font_size,\n",
    "            titlelocation = :right,\n",
    "            guidefontsize = font_size,\n",
    "            color_palette = :tab10\n",
    "        )\n",
    "        ylabel!(p1, ylabel)\n",
    "        ylims!(p1, ylims...)\n",
    "        #\n",
    "        p2 = plot(\n",
    "            title = sub_plot_title2,\n",
    "            titlefontsize = font_size,\n",
    "            titlelocation = :right,\n",
    "            guidefontsize = font_size,\n",
    "            color_palette = :tab10\n",
    "        )\n",
    "        xlabel!(p2, xlabel)\n",
    "        ylabel!(p2, ylabel)\n",
    "        ylims!(p2, ylims...)\n",
    "        for i ∈ 1:first_paths\n",
    "            plot!(p1, scens1_agg.times, scens1_agg.X[i,:,1], label=\"\", lc=8)\n",
    "            plot!(p2, scens2_agg.times, scens2_agg.X[i,:,1], label=\"\", lc=8)\n",
    "            p = super_plot(p1, p2)\n",
    "            if with_frame\n",
    "                frame(a, p)\n",
    "            end\n",
    "        end\n",
    "        plot!(p1, scens1_agg.times, scens1_agg.X[first_paths+1:second_paths,:,1]', label=\"\", lc=8)\n",
    "        plot!(p2, scens2_agg.times, scens2_agg.X[first_paths+1:second_paths,:,1]', label=\"\", lc=8)\n",
    "        p = super_plot(p1, p2)\n",
    "        if with_frame\n",
    "            wait(wait_seconds, p)\n",
    "        end\n",
    "        return (p, p1, p2)\n",
    "    end\n",
    "    #\n",
    "    @info \"Build animation.\"\n",
    "    # Full graph as first frame for PDF\n",
    "    (p, p1, p2) = plot_paths(false)\n",
    "    plot!(p1, scens1_pfe.times, scens1_pfe.X[1,:,1], label=\"potential future exposure\",    lc=4, lw=line_width)\n",
    "    plot!(p2, scens2_pfe.times, scens2_pfe.X[1,:,1], label=\"potential future exposure\",    lc=4, lw=line_width)\n",
    "    plot!(p1, scens1_ee.times,  scens1_ee.X[1,:,1],  label=\"expected (positive) exposure\", lc=2, lw=line_width)\n",
    "    plot!(p2, scens2_ee.times,  scens2_ee.X[1,:,1],  label=\"expected (positive) exposure\", lc=2, lw=line_width)\n",
    "    plot!(p1, scens1_mv.times,  scens1_mv.X[1,:,1],  label=\"expected market value\",        lc=3, lw=line_width)\n",
    "    plot!(p2, scens2_mv.times,  scens2_mv.X[1,:,1],  label=\"expected market value\",        lc=3, lw=line_width)\n",
    "    p = super_plot(p1, p2)\n",
    "    wait(1, p)\n",
    "    # intitial frames\n",
    "    plot_paths(true)\n",
    "    # expected market value\n",
    "    (p, p1, p2) = plot_paths(false)\n",
    "    plot!(p1, scens1_mv.times, scens1_mv.X[1,:,1], label=\"expected market value\", lc=3, lw=line_width)\n",
    "    plot!(p2, scens2_mv.times, scens2_mv.X[1,:,1], label=\"expected market value\", lc=3, lw=line_width)\n",
    "    p = super_plot(p1, p2)\n",
    "    wait(4, p)\n",
    "    # expected exposure\n",
    "    (p, p1, p2) = plot_paths(false)\n",
    "    plot!(p1, scens1_ee.times, scens1_ee.X[1,:,1], label=\"expected (positive) exposure\", lc=2, lw=line_width)\n",
    "    plot!(p2, scens2_ee.times, scens2_ee.X[1,:,1], label=\"expected (positive) exposure\", lc=2, lw=line_width)\n",
    "    plot!(p1, scens1_mv.times, scens1_mv.X[1,:,1], label=\"expected market value\",        lc=3, lw=line_width)\n",
    "    plot!(p2, scens2_mv.times, scens2_mv.X[1,:,1], label=\"expected market value\",        lc=3, lw=line_width)\n",
    "    p = super_plot(p1, p2)\n",
    "    wait(4, p)\n",
    "    # PFE\n",
    "    (p, p1, p2) = plot_paths(false)\n",
    "    plot!(p1, scens1_pfe.times, scens1_pfe.X[1,:,1], label=\"potential future exposure\",    lc=4, lw=line_width)\n",
    "    plot!(p2, scens2_pfe.times, scens2_pfe.X[1,:,1], label=\"potential future exposure\",    lc=4, lw=line_width)\n",
    "    plot!(p1, scens1_ee.times,  scens1_ee.X[1,:,1],  label=\"expected (positive) exposure\", lc=2, lw=line_width)\n",
    "    plot!(p2, scens2_ee.times,  scens2_ee.X[1,:,1],  label=\"expected (positive) exposure\", lc=2, lw=line_width)\n",
    "    plot!(p1, scens1_mv.times,  scens1_mv.X[1,:,1],  label=\"expected market value\",        lc=3, lw=line_width)\n",
    "    plot!(p2, scens2_mv.times,  scens2_mv.X[1,:,1],  label=\"expected market value\",        lc=3, lw=line_width)\n",
    "    p = super_plot(p1, p2)\n",
    "    wait(10, p)\n",
    "    @info \"Plot GIF.\"\n",
    "    gif(a, \"CollateralisedCrossCurrencySwap.gif\", fps = 1)\n",
    "    # display(p)\n",
    "end"
   ]
  },
  {
   "cell_type": "code",
   "execution_count": null,
   "metadata": {},
   "outputs": [],
   "source": [
    "# calculate animation and plot graph\n",
    "compare_scenarios(\n",
    "    scens1,\n",
    "    scens2,\n",
    "    plot_title = \"SOFR vs ESTR mark-to-market cross currency swap\",\n",
    "    sub_plot_title1 = \"no collateral\",\n",
    "    sub_plot_title2 = \"full collateral, two weeks MPoR\",\n",
    "    ylabel = \"market value (USD, bp)\",\n",
    "    ylims = (-4000., 4000),\n",
    ")\n"
   ]
  },
  {
   "cell_type": "markdown",
   "metadata": {},
   "source": [
    "We find that expected market value for the uncollateralised and the collateralised swap is flat.\n",
    "\n",
    "The mark-to-market feature of the modelled cross currency swap aims at mitigating counterparty credit risk (CCR). This property can be observed by the fact that expected exposure (EE) and potential future exposure (PFE) drop to zero at the quarterly reset dates.\n",
    "\n",
    "However, prior to the reset dates the uncollateralised cross currency swap does exhibit relevant CCR expressed via EE and PFE.\n",
    "\n",
    "From above analysis we see that collateralisation does reduce CCR. But with the modelled 2-weeks margin period of risk (MPoR), we still see PFE (and to lesser extend EE) spikes around the reset dates."
   ]
  }
 ],
 "metadata": {
  "kernelspec": {
   "display_name": "Julia 1.9.0",
   "language": "julia",
   "name": "julia-1.9"
  },
  "language_info": {
   "file_extension": ".jl",
   "mimetype": "application/julia",
   "name": "julia",
   "version": "1.9.0"
  }
 },
 "nbformat": 4,
 "nbformat_minor": 2
}
