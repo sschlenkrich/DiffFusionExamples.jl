{
 "cells": [
  {
   "cell_type": "markdown",
   "metadata": {},
   "source": [
    "# Parallel Scenario Calculation with DiffFusion.jl\n",
    "\n",
    "In this notebook, we present scaling results from parallel calculation of Monte Carlo valuation scenarios. With these results, we want to discuss the following questions:\n",
    "\n",
    "  1. How well can we exploit parallel computation capabilities with the [DiffFusion.jl](https://github.com/frame-consulting/DiffFusion.jl) framework?\n",
    "\n",
    "  2. What do we need to keep in mind when using Julia's [parallel computing](https://docs.julialang.org/en/v1/manual/parallel-computing/) functionalities?\n",
    "\n",
    "Scenarios are calculated for random but representative portfolios of [interest rate swaps](https://en.wikipedia.org/wiki/Interest_rate_swap). Business use case is, for example, exposure simulation for [counterparty credit risk](https://en.wikipedia.org/wiki/Credit_risk#Counterparty_risk) modelling. \n",
    "\n",
    "As parallelisation techniques we consider multi-threading, multi-processing and a combination of both approaches.\n",
    "\n",
    "Results are calculated on an hpc6a AWS EC2 instance with Julia 1.10.7 and DiffFusion.jl 0.7.0."
   ]
  },
  {
   "cell_type": "markdown",
   "metadata": {},
   "source": [
    "## Packages and Prerequisites"
   ]
  },
  {
   "cell_type": "code",
   "execution_count": null,
   "metadata": {},
   "outputs": [],
   "source": [
    "using Pkg\n",
    "Pkg.activate(\"../.\")"
   ]
  },
  {
   "cell_type": "code",
   "execution_count": null,
   "metadata": {},
   "outputs": [],
   "source": [
    "using CSV\n",
    "using DataFrames\n",
    "using DiffFusion\n",
    "using OrderedCollections\n",
    "using Plots\n",
    "using Printf\n",
    "using YAML"
   ]
  },
  {
   "cell_type": "markdown",
   "metadata": {},
   "source": [
    "## Background Exposure Simulation\n",
    "\n",
    "The business background of our example workload is exposure simulation for counterparty credit risk. From a computational perspective, exposure simulation can be represented as a sequence of calculation steps:\n",
    "\n",
    " - Simulate key financial risk factors (interest rates, exchange rates, stock prices) of an economy for a grid of future simulation/observation times and a number of simulation scenarios (i.e. number of paths).\n",
    "\n",
    " - For each future time grid and simulated scenario calculate the *fair price* of a portfolio of financial instruments. This yields the set of scenario valuation results.\n",
    "\n",
    " - Aggregate the scenario valuation results and calculate relevant risk figures."
   ]
  },
  {
   "cell_type": "markdown",
   "metadata": {},
   "source": [
    "We illustrate the simulation in below graphs.\n",
    "\n",
    "\n",
    "| ![Example path](example_path.png) | ![Exposure calculation](example_exposures.png)\n",
    "|:--:|:--:|\n",
    "| *Example scenarios on a single path.* | *Exposure with and without collateral.* |"
   ]
  },
  {
   "cell_type": "markdown",
   "metadata": {},
   "source": [
    "(Below calculation cells are commented out because large data files are not included in repository.)"
   ]
  },
  {
   "cell_type": "code",
   "execution_count": null,
   "metadata": {},
   "outputs": [],
   "source": [
    "# scens_w_cb = DiffFusion.deserialise(YAML.load_file(\"data/scens_w_cb.yml\"; dicttype=OrderedDict{String,Any}))\n",
    "# scens_cva = DiffFusion.deserialise(YAML.load_file(\"data/scens_cva.yml\"; dicttype=OrderedDict{String,Any}))"
   ]
  },
  {
   "cell_type": "code",
   "execution_count": null,
   "metadata": {},
   "outputs": [],
   "source": [
    "# scens_agg = DiffFusion.aggregate(scens_w_cb, false, true)\n",
    "# scens_ee = DiffFusion.expected_exposure(scens_w_cb, true, true, false)\n",
    "# scens_ee_w_cb = DiffFusion.expected_exposure(scens_w_cb, false, true, true);"
   ]
  },
  {
   "cell_type": "code",
   "execution_count": null,
   "metadata": {},
   "outputs": [],
   "source": [
    "#=\n",
    "\n",
    "x = range(start=0, stop=10, step=1)\n",
    "xticks_ = (x, [string(Int(t)) for t in x])\n",
    "path_idx = 1024\n",
    "scaling = 1.e6\n",
    "\n",
    "plot( # base plot\n",
    "    xticks = xticks_,\n",
    "    # xaxis = :log,\n",
    "    annotationfontsize = 8,\n",
    "    xlims = (0, 10),\n",
    "    # ylims = (0, 100),\n",
    "    xlabel = \"observation time (years)\",\n",
    "    ylabel = \"scenario value (Mio USD)\",\n",
    "    size = (800, 600) .* 0.7,\n",
    "    labelfontsize = 8,\n",
    "    title = \"Portfolio valuation, 128 instruments\",\n",
    "    titlefontsize = 10,\n",
    ")\n",
    "\n",
    "plot!(\n",
    "    scens_w_cb.times, scens_w_cb.X[path_idx,:,1] / scaling,\n",
    "    label=\"Swap portfolio (path #$path_idx)\",\n",
    "    seriestype=:path,\n",
    "    linestyle=:solid,\n",
    "    lw = 1,\n",
    "    seriescolor = :green,\n",
    ")\n",
    "plot!(\n",
    "    scens_w_cb.times, scens_w_cb.X[path_idx,:,2] / scaling,\n",
    "    label=\"Collateral balance\",\n",
    "    seriestype=:path,\n",
    "    linestyle=:solid,\n",
    "    lw = 1,\n",
    "    seriescolor = :blue,\n",
    ")\n",
    "plot!(\n",
    "    scens_agg.times, scens_agg.X[path_idx,:,1] / scaling,\n",
    "    label=\"Collateralised portfolio\",\n",
    "    seriestype=:path,\n",
    "    linestyle=:solid,\n",
    "    lw = 1,\n",
    "    seriescolor = :red,\n",
    ")\n",
    "\n",
    "=#\n"
   ]
  },
  {
   "cell_type": "code",
   "execution_count": null,
   "metadata": {},
   "outputs": [],
   "source": [
    "# png(\"example_path.png\")"
   ]
  },
  {
   "cell_type": "code",
   "execution_count": null,
   "metadata": {},
   "outputs": [],
   "source": [
    "#=\n",
    "\n",
    "plot( # base plot\n",
    "    xticks = xticks_,\n",
    "    # xaxis = :log,\n",
    "    annotationfontsize = 8,\n",
    "    xlims = (0, 10),\n",
    "    ylims = (0, 100),\n",
    "    xlabel = \"observation time  (years)\",\n",
    "    ylabel = \"scenario value (Mio USD)\",\n",
    "    size = (800, 600) .* 0.7,\n",
    "    labelfontsize = 8,\n",
    "    title = \"Expected exposure, 128 instruments\",\n",
    "    titlefontsize = 10,\n",
    ")\n",
    "plot!(\n",
    "    scens_ee.times, scens_ee.X[1,:,1] / scaling,\n",
    "    label=\"Uncollateralised portfolio\",\n",
    "    seriestype=:path,\n",
    "    linestyle=:solid,\n",
    "    lw = 1,\n",
    "    seriescolor = :green,\n",
    ")\n",
    "plot!(\n",
    "    scens_ee_w_cb.times, scens_ee_w_cb.X[1,:,1] / scaling,\n",
    "    label=\"Collateralised portfolio\",\n",
    "    seriestype=:path,\n",
    "    linestyle=:solid,\n",
    "    lw = 1,\n",
    "    seriescolor = :red,\n",
    ")\n",
    "\n",
    "=#"
   ]
  },
  {
   "cell_type": "code",
   "execution_count": null,
   "metadata": {},
   "outputs": [],
   "source": [
    "# png(\"example_exposures.png\")"
   ]
  },
  {
   "cell_type": "code",
   "execution_count": null,
   "metadata": {},
   "outputs": [],
   "source": [
    "#=\n",
    "\n",
    "plot( # base plot\n",
    "    xticks = xticks_,\n",
    "    # xaxis = :log,\n",
    "    annotationfontsize = 8,\n",
    "    xlims = (0, 10),\n",
    "    # ylims = (0, 100),\n",
    "    xlabel = \"observation time\",\n",
    "    ylabel = \"scenario value (1k USD)\",\n",
    "    size = (800, 600) .* 0.7,\n",
    "    labelfontsize = 8,\n",
    "    title = \"Credit Valuation Adjustment per year\",\n",
    "    titlefontsize = 10,\n",
    ")\n",
    "plot!(\n",
    "    scens_cva.times, scens_cva.X[1,:,1] / scaling * 1_000 / 0.25,\n",
    "    label=\"Collateralised portfolio\",\n",
    "    seriestype=:path,\n",
    "    linestyle=:solid,\n",
    "    lw = 1,\n",
    "    seriescolor = :red,\n",
    ")\n",
    "\n",
    "=#"
   ]
  },
  {
   "cell_type": "markdown",
   "metadata": {},
   "source": [
    "## Parallelisation of Scenario Valuation\n",
    "\n",
    "Exposure simulation calculations typically scale with the number of modelled financial risk factors, the number of simulation times and the number of simulation scenarios.\n",
    "\n",
    "Most critically from a computational perspective is the second step of scenario valuation. The computational effort also scales with the number of instruments in the portfolio. And the individual calculations are typically more complex than the calculations from the first and second step.\n",
    "\n",
    "Fortunately, scenario valuation is (in most cases) independent with respect to financial product and simulation time. This opens up the possibility of parallelisation.\n"
   ]
  },
  {
   "cell_type": "markdown",
   "metadata": {},
   "source": [
    "## Run Time Results"
   ]
  },
  {
   "cell_type": "code",
   "execution_count": null,
   "metadata": {},
   "outputs": [],
   "source": [
    "table_mt = DataFrame(CSV.File(\"data/Workloads.MT.csv\"))\n",
    "table_mp = DataFrame(CSV.File(\"data/Workloads.MP.csv\"))\n",
    "table_mx = DataFrame(CSV.File(\"data/Workloads.MX.csv\"));"
   ]
  },
  {
   "cell_type": "code",
   "execution_count": null,
   "metadata": {},
   "outputs": [],
   "source": [
    "function plot_run_times(n_prods, ylims)\n",
    "    idx_mt = (table_mt.n_prods .== n_prods)\n",
    "    idx_mp = (table_mp.n_prods .== n_prods)\n",
    "    idx_mx = (table_mx.n_prods .== n_prods)\n",
    "    #\n",
    "    y_mt = table_mt[idx_mt, \"run_time\"]\n",
    "    y_mp = table_mp[idx_mp, \"run_time\"]\n",
    "    y_mx = table_mx[idx_mx, \"run_time\"]\n",
    "    #\n",
    "    x = [ 6, 12, 24, 48, 96 ]\n",
    "    xticks = (x, [string(Int(t)) for t in x])\n",
    "    #\n",
    "    plot( # base plot\n",
    "        xticks = xticks,\n",
    "        xaxis = :log,\n",
    "        annotationfontsize = 8,\n",
    "        xlims = (5, 128),\n",
    "        ylims = ylims,\n",
    "        xlabel = \"threads × processes\",\n",
    "        ylabel = \"run time (sec.)\",\n",
    "        size = (800, 600) .* 0.7,\n",
    "        labelfontsize = 8,\n",
    "        title = \"DiffFusion.jl workload, hpc6a.48xlarge, $n_prods instruments\",\n",
    "        titlefontsize = 10,\n",
    "    )\n",
    "    #\n",
    "    plot!(\n",
    "        x, y_mt,\n",
    "        label=\"multi-threading\",\n",
    "        seriestype=:path,\n",
    "        linestyle=:solid,\n",
    "        lw = 1,\n",
    "        seriescolor = :green,\n",
    "        marker = :rect,\n",
    "        markersize = 4,\n",
    "        markercolor = :green,\n",
    "        markerstrokecolor = :green,    \n",
    "    )\n",
    "    annotate!(\n",
    "        x * 1.2,\n",
    "        y_mt + [ 0, 0, 0, 0, 0 ],\n",
    "        [ @sprintf(\"%.1f\", y) for y in y_mt ]\n",
    "    )\n",
    "    #\n",
    "    plot!(\n",
    "        x, y_mp,\n",
    "        label=\"multi-processing\",\n",
    "        seriestype=:path,\n",
    "        linestyle=:solid,\n",
    "        lw = 1,\n",
    "        seriescolor = :blue,\n",
    "        marker = :rect,\n",
    "        markersize = 4,\n",
    "        markercolor = :blue,\n",
    "        markerstrokecolor = :blue,\n",
    "    )\n",
    "    annotate!(\n",
    "        x * 1.2,\n",
    "        y_mp + [ 0, 0, 0, 0, 0 ],\n",
    "        [ @sprintf(\"%.1f\", y) for y in y_mp ]\n",
    "    )\n",
    "    #\n",
    "    plot!(\n",
    "        x, y_mx,\n",
    "        label=\"multi-processing w/ 6 threads\",\n",
    "        seriestype=:path,\n",
    "        linestyle=:solid,\n",
    "        lw = 1,\n",
    "        seriescolor = :red,\n",
    "        marker = :rect,\n",
    "        markersize = 4,\n",
    "        markercolor = :red,\n",
    "        markerstrokecolor = :red,\n",
    "    )\n",
    "    annotate!(\n",
    "        x * 1.2,\n",
    "        y_mx + [ 0, 0, 0, 0, 0 ],\n",
    "        [ @sprintf(\"%.1f\", y) for y in y_mx ]\n",
    "    )    \n",
    "end"
   ]
  },
  {
   "cell_type": "code",
   "execution_count": null,
   "metadata": {},
   "outputs": [],
   "source": [
    "plot_run_times(256, (0, 20))"
   ]
  },
  {
   "cell_type": "code",
   "execution_count": null,
   "metadata": {},
   "outputs": [],
   "source": [
    "# png(\"run_times_256.png\")"
   ]
  },
  {
   "cell_type": "code",
   "execution_count": null,
   "metadata": {},
   "outputs": [],
   "source": [
    "plot_run_times(512, (0, 40))"
   ]
  },
  {
   "cell_type": "code",
   "execution_count": null,
   "metadata": {},
   "outputs": [],
   "source": [
    "# png(\"run_times_512.png\")"
   ]
  },
  {
   "cell_type": "code",
   "execution_count": null,
   "metadata": {},
   "outputs": [],
   "source": [
    "plot_run_times(1024, (0, 70))"
   ]
  },
  {
   "cell_type": "code",
   "execution_count": null,
   "metadata": {},
   "outputs": [],
   "source": [
    "# png(\"run_times_1024.png\")"
   ]
  }
 ],
 "metadata": {
  "kernelspec": {
   "display_name": "Julia 1.10.7",
   "language": "julia",
   "name": "julia-1.10"
  },
  "language_info": {
   "file_extension": ".jl",
   "mimetype": "application/julia",
   "name": "julia",
   "version": "1.10.7"
  }
 },
 "nbformat": 4,
 "nbformat_minor": 2
}
