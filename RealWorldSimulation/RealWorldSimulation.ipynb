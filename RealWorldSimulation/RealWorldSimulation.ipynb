{
 "cells": [
  {
   "cell_type": "markdown",
   "metadata": {},
   "source": [
    "# Real World Simulation\n",
    "\n",
    "*Sebastian Schlenkrich, February 2024*\n",
    "\n",
    "In this notebook, we analyse the modelling and simulation of financial risk factors in risk neutral and real world probability measure.\n",
    "\n",
    "Applications are, for example, long-term financial scenario simulation and counterparty credit risk modelling. "
   ]
  },
  {
   "cell_type": "markdown",
   "metadata": {},
   "source": [
    "## Risk Neutral Model Setting\n",
    "\n",
    "We consider a multi-period model with time-grid ${\\cal T} = \\left(0, \\ldots, T\\right)$. The time grid can be interpreted as the simulation times in a Monte Carlo simulation.\n",
    "\n",
    "Moreover, we consider a finite sample space $\\Omega = \\left\\{\\omega_1, \\ldots, \\omega_p \\right\\}$. An outcome $\\omega \\in \\Omega$ can be viewed as an individual path of a Monte Carlo simulation.\n",
    "\n",
    "The model is formulated for a filtered probability space $\\left(\\Omega, {\\cal F}, \\left({\\cal F}_t\\right)_t, {\\mathbb P}^\\star \\right)$ with risk neutral probability measure ${\\mathbb P}^\\star$.\n",
    "\n",
    "In a risk neutral Monte Carlo simulation model, each atomic event $\\{ \\omega \\}$ typically has equal probability. That is\n",
    "$$\n",
    "  {\\mathbb P}^\\star\\left[ \\{ \\omega \\} \\right] = 1 / p.\n",
    "$$"
   ]
  },
  {
   "cell_type": "markdown",
   "metadata": {},
   "source": [
    "## Corresponding Real World Model\n",
    "\n",
    "Based on above risk neutral model, we specify an equivalent real world probability measure $\\mathbb P$.\n",
    "\n",
    "The corresponding real world model is now defined on the filtered probability space $\\left(\\Omega, {\\cal F}, \\left({\\cal F}_t\\right)_t, {\\mathbb P} \\right)$.\n",
    "\n",
    "The link between risk neutral measure ${\\mathbb P}^\\star$ and real world measure ${\\mathbb P}$ is established via the Radon–Nikodym derivative $W:\\Omega \\rightarrow {\\mathbb R}^+$.\n",
    "\n",
    "We have that\n",
    "$$\n",
    "  {\\mathbb E}\\left[ X \\right] = {\\mathbb E}^\\star\\left[W X \\right].\n",
    "$$\n",
    "\n",
    "Since we work with a finite sample space, we can characterise the Radon–Nikodym derivative using the atoms of the probability space. That is, we have\n",
    "$$\n",
    "  {\\mathbb P}\\left[ \\{ \\omega \\} \\right] =\n",
    "  W\\left( \\omega \\right) {\\mathbb P}^\\star\\left[ \\{ \\omega \\} \\right] =\n",
    "  \\frac{W\\left( \\omega \\right) }{p}.\n",
    "$$\n",
    "\n",
    "We aim at specifying the Radon–Nikodym derivative $W$ based on suitable real world observations. Then we also get a real world probability measure ${\\mathbb P}$ which specifies our real world model."
   ]
  },
  {
   "cell_type": "markdown",
   "metadata": {},
   "source": [
    "## Real World Observations for Calibration\n",
    "\n",
    "In this section, we specify real world observations which are intended to be used for RN derivative calibration.\n",
    "\n",
    "Denote $X$ a (scalar) random variable in our probability spaces. The random variable is characterised by their finite values $X^{(i)} = X\\left(\\omega_i\\right)$ for $i=1,\\ldots,p$.\n",
    "\n",
    "For a (capital letter) random variable $X$ we collect the realisations into a (lower case) vector $x$ with\n",
    "$$\n",
    "  x = \\left[ X^{(1)}, \\ldots, X^{(p)} \\right]^\\top.\n",
    "$$\n",
    "\n",
    "### Expectation\n",
    "\n",
    "Suppose, we can observe the real world expectation ${\\mathbb E}^\\star\\left[ X \\right]$ of a random variable $X$.\n",
    "\n",
    "Then\n",
    "$$\n",
    "  {\\mathbb E}\\left[ X \\right] =\n",
    "  {\\mathbb E}^\\star\\left[W X \\right] =\n",
    "  \\frac{w^\\top x }{p}.\n",
    "$$\n",
    "\n",
    "Above condition represents a linear equation for the RN derivative $w$.\n",
    "\n",
    "### Covariance\n",
    "\n",
    "Suppose, we can observe the real world covariance $\\text{Cov}\\left[X,Y\\right]$ of two random variables $X$ and $Y$ and the corresponding real world expectations ${\\mathbb E}\\left[ X \\right]$ and ${\\mathbb E}\\left[ Y \\right]$.\n",
    "\n",
    "Then\n",
    "$$\n",
    "  \\text{Cov}\\left[X,Y\\right]\n",
    "  = {\\mathbb E}\\left[ X Y \\right] - {\\mathbb E}\\left[ X \\right] {\\mathbb E}\\left[ Y \\right].\n",
    "$$\n",
    "\n",
    "Consequently,\n",
    "$$\n",
    "  \\text{Cov}\\left[X,Y\\right] + {\\mathbb E}\\left[ X \\right] {\\mathbb E}\\left[ Y \\right]\n",
    "  = {\\mathbb E}^\\star\\left[ W X Y \\right]\n",
    "  = \\frac{w^\\top \\left( x \\star y \\right)}{p}.\n",
    "$$\n",
    "Here, $x \\star y$ denotes element-wise vector multiplication.\n",
    "\n",
    "This condition also represents a linear equation for the RN derivative $w$.\n",
    "\n",
    "### Quantiles\n",
    "\n",
    "Suppose, we can observe (upper) quantiles $\\alpha$ for a given confidence level $q$. That is, we know $\\alpha$ such that ${\\mathbb P}\\left[ X \\leq \\alpha \\right] = q$.\n",
    "\n",
    "We denote $L = 1_{\\left\\{ X \\leq \\alpha \\right\\} }$ the indicator function random variable that tests whether $X \\leq \\alpha$.\n",
    "\n",
    "Then\n",
    "$$\n",
    "  {\\mathbb P}\\left[ X \\leq \\alpha \\right]\n",
    "  = {\\mathbb E}\\left[ L \\right]\n",
    "  = {\\mathbb E}^\\star\\left[ WL \\right]\n",
    "  =   \\frac{w^\\top l }{p}.\n",
    "$$\n"
   ]
  },
  {
   "cell_type": "markdown",
   "metadata": {},
   "source": [
    "### Radon–Nikodym Derivative Constraint\n",
    "\n",
    "We have\n",
    "$$\n",
    "  1 = {\\mathbb E}\\left[1 \\right]\n",
    "  = {\\mathbb E}^\\star\\left[W 1 \\right]\n",
    "  = \\frac{w^\\top 1 }{p}.\n",
    "$$\n",
    "This yields the equality constraint for the Radon–Nikodym derivative as\n",
    "$$\n",
    "  w^\\top 1 = p.\n",
    "$$"
   ]
  },
  {
   "cell_type": "markdown",
   "metadata": {},
   "source": [
    "## Calibration Problem\n",
    "\n",
    "We find that we can formulate linear equations of the form $w^\\top a = b$. Here, $b$ represents an estimate of a real world expectation and $a$ represents a vector of risk neutral samples.\n",
    "\n",
    "We combine simulations and real world observations $\\left(a_i, b_i\\right)_{i=0,\\ldots,k}$ into matrix and vector notation\n",
    "$$\n",
    "  A = \\left[ a_0, \\ldots, a_k \\right] \\in {\\mathbb R}^{p \\times (k+1)},\n",
    "  \\quad\n",
    "  b = \\left[ b_0, \\ldots, b_k \\right]^\\top \\in {\\mathbb R}^{(k+1)}.\n",
    "$$\n",
    "\n",
    "The initial observation and simulation plays a special role and represents the Radon–Nikodym Derivative constraint. That is $a_0 = {\\mathbb 1}\\frac{1}{p}$ and $b_0 = 1$.\n",
    "\n",
    "With the matrix-vector notation we arrive at the system of linear equations\n",
    "$$\n",
    "  A^\\top w = b. \n",
    "$$\n",
    "And solving for the Radon–Nikodym derivative $w$ represents an inverse problem."
   ]
  },
  {
   "cell_type": "markdown",
   "metadata": {},
   "source": [
    "## Transformation and Regularisation\n",
    "\n",
    "Solving the original problem $A^\\top w = b$ is particularly ill-posed because typically $k\\ll p$. A sensible and stable solution requires additional regularisation. Furthermore, we need to ensure that the solution satisfies the Radon-Nikodyn derivative equality constraint $w^\\top 1 = p$ as well as the (element-wise) inequality constraints $w>0$.\n",
    "\n",
    "In this section, we specify transformation and regularisation applied to the calibration problem.\n",
    "\n",
    "### Transformation via Weighting of Observations\n",
    "\n",
    "If the set of specified real world observations in $b$ cannot be matched exactly, then a least-squares fit is calculated. In this case, we want to ensure that a priori all real world observations get similar weight for calibration.\n",
    "\n",
    "We specify the diagonal scaling matrix $D=\\text{diag}\\left(d_0, \\ldots, d_k\\right)$. The elements $d_i$ are chosen as\n",
    "$$\n",
    "  d_i = \\frac{\\text{sign}\\left(  b_i \\right)}{\\max\\left\\{ |b_i|, \\epsilon_i \\right\\} }.\n",
    "$$\n",
    "Here, $\\epsilon_i>0$ specifies the typical *order of magnitude* of the corresponding real world observation.\n",
    "\n",
    "The transformed calibration problem becomes\n",
    "$$\n",
    "  D A^\\top w = D b. \n",
    "$$\n",
    "If all observations are *sufficiently large* and $|b|\\geq \\epsilon$ (element-wise), then we arrive at\n",
    "$$\n",
    "  D A^\\top w = 1.\n",
    "$$\n",
    "With this transformation we can interpret a non-zero residuum $r = D A^\\top \\bar w - 1$ for a candidate solution $\\bar w$ as the (element-wise) relative error in matching the real world observations $b$.\n",
    "\n",
    "To simplify notations we will identify the transformed calibration problem as\n",
    "$$\n",
    "  |M w - e| \\rightarrow \\min\n",
    "$$\n",
    "with $W=D A^\\top$ and $e = D b$."
   ]
  },
  {
   "cell_type": "markdown",
   "metadata": {},
   "source": [
    "### Enforcing Radon-Nikodyn Derivative Equality Constraint\n",
    "\n",
    "We enforce the condition $w^\\top 1 = p$ by starting at an initial vector $w^0$ with ${w^0}^\\top 1 = p$ and calculating steps $s$ with $s^\\top 1 = 0$. Then we ensure that also\n",
    "$$\n",
    "  \\left(w^0 + s\\right)^\\top 1 = p.\n",
    "$$\n",
    "\n",
    "The condition $s^\\top 1 = 0$ describes a subspace. Any step direction $\\bar s$ can be projected on the desired subspace by the transformation\n",
    "$$\n",
    "  s = {\\bar s} - \\frac{{\\bar s}^\\top 1}{1^\\top 1} 1.\n",
    "$$\n",
    "\n",
    "Similarly, any candidate solution $\\bar w$ can be projected on the affine subspace $w^\\top 1 = p$ via\n",
    "$$\n",
    "  w = \\bar w + \\lambda 1\n",
    "$$\n",
    "where\n",
    "$$\n",
    "  \\lambda = \\frac{p - \\bar w^\\top 1}{1^\\top 1}.\n",
    "$$"
   ]
  },
  {
   "cell_type": "markdown",
   "metadata": {},
   "source": [
    "### Projection to Admissible Domain\n",
    "\n",
    "The elements of the Radon-Nikodyn derivative vector $w$ must be positive by definition. This translates into box constraints $w \\geq \\epsilon >0$ for an admissible solution $w$.\n",
    "\n",
    "An unconstrained optimisation step $\\bar w^1 = w^0 + s$ may end up beyond the boundaries of the admissible domain. In this case the candidate solution $\\bar w^1$ must be projected back to the admissible domain.\n",
    "\n",
    "For a given point $\\bar w$ the projection to the boundaries of the box constraints $w \\geq \\epsilon$ is given by\n",
    "$$\n",
    "  w = \\left[\\max\\left(\\bar w_1, \\epsilon \\right), \\ldots, \\max\\left(\\bar w_p, \\epsilon \\right) \\right]^\\top.\n",
    "$$\n"
   ]
  },
  {
   "cell_type": "markdown",
   "metadata": {},
   "source": [
    "### Projection to Admissible Domain and Affine Subspace\n",
    "\n",
    "In general, above projection $\\bar w \\mapsto w \\geq \\epsilon$ results in a new estimate $w$ with $w^\\top 1 > p$.\n",
    "\n",
    "As a consequence, we need full projection that simultaneously satisfies equality constraint and inequality constraint. Such full projection is calculated as\n",
    "$$\n",
    "  w\\left(\\lambda \\right) = \\left[\\max\\left(\\bar w_1 + \\lambda, \\epsilon \\right), \\ldots, \\max\\left(\\bar w_p + \\lambda, \\epsilon \\right) \\right]^\\top.\n",
    "$$\n",
    "such that\n",
    "$$\n",
    "  w\\left(\\lambda \\right)^\\top 1 = p.\n",
    "$$\n",
    "\n",
    "The function $f\\left(\\lambda\\right) = w\\left(\\lambda \\right)^\\top 1 - p$ is monotone in $\\lambda$ and can easily be solved via one-dimensional root search.\n"
   ]
  },
  {
   "cell_type": "markdown",
   "metadata": {},
   "source": [
    "## Implementation"
   ]
  },
  {
   "cell_type": "code",
   "execution_count": null,
   "metadata": {},
   "outputs": [],
   "source": [
    "using Pkg\n",
    "Pkg.activate(\".\")\n",
    "\n",
    "using DiffFusion\n",
    "using LinearAlgebra\n",
    "using Interpolations\n",
    "using OrderedCollections\n",
    "using Printf\n",
    "using Roots\n",
    "using StatsBase\n",
    "using StatsPlots\n",
    "using YAML\n",
    "\n",
    "default(fmt = :png)"
   ]
  },
  {
   "cell_type": "markdown",
   "metadata": {},
   "source": [
    "## Plotting Utilities"
   ]
  },
  {
   "cell_type": "code",
   "execution_count": null,
   "metadata": {},
   "outputs": [],
   "source": [
    "include(\"plots.jl\")"
   ]
  },
  {
   "cell_type": "markdown",
   "metadata": {},
   "source": [
    "## Constrained Minimisation via Projected Gradient\n",
    "\n",
    "We use a variant of projected gradient method to solve the constraint minimisation problem."
   ]
  },
  {
   "cell_type": "code",
   "execution_count": null,
   "metadata": {},
   "outputs": [],
   "source": [
    "include(\"radon_nikodym_derivative.jl\")"
   ]
  },
  {
   "cell_type": "markdown",
   "metadata": {},
   "source": [
    "## Case Study\n",
    "\n",
    "In this section, we illustrate the methodology by means of a hybrid cross-currency model with specified real world expectation and standard deviation for reference interest rates and FX rates. "
   ]
  },
  {
   "cell_type": "markdown",
   "metadata": {},
   "source": [
    "### Hybid Model Setting\n",
    "\n",
    "We DiffFusion.jl to set up a hybrid model with the following component models:\n",
    "    - 3-factor Gaussian rates models for USD, EUR and GBP.\n",
    "    - Log-normal FX models for EUR-USD and GBP-USD.\n",
    "\n",
    "The model is simulated for a given time grid and number of paths as specified below."
   ]
  },
  {
   "cell_type": "code",
   "execution_count": null,
   "metadata": {},
   "outputs": [],
   "source": [
    "dict_list = YAML.load_file(\"model.yaml\"; dicttype=OrderedDict{String,Any})\n",
    "obj_dict = DiffFusion.deserialise_from_list(dict_list)\n",
    "\n",
    "times = 0.0:1.0:10.0\n",
    "n_paths = 2^13\n",
    "\n",
    "sim = DiffFusion.simple_simulation(obj_dict[\"md/G3\"], obj_dict[\"ch/STD\"], times, n_paths, with_progress_bar=false)\n",
    "path = DiffFusion.path(sim, DiffFusion.Examples.term_structures(obj_dict), obj_dict[\"ct/STD\"]);"
   ]
  },
  {
   "cell_type": "markdown",
   "metadata": {},
   "source": [
    "### Reference Rates\n",
    "\n",
    "We select a set of reference interest rates and exchange rates.\n",
    "\n",
    "For USD, EUR and GBP, we select (simple compounded) interest rates with observation times and maturity tenors 2y-2y, 5y-5y and 10y-10y.\n",
    "\n",
    "For EUR-USD, and GBP-USD, we select spot FX rates with observation times 2y, 5y and 10y.\n",
    "\n",
    "The simulated risk neutral densities of the reference rates are illustrated in below graphs."
   ]
  },
  {
   "cell_type": "code",
   "execution_count": null,
   "metadata": {},
   "outputs": [],
   "source": [
    "e = ones(length(path)); # set RW measure equal to RN measure for initial plots"
   ]
  },
  {
   "cell_type": "markdown",
   "metadata": {},
   "source": [
    "#### USD Interest Rates"
   ]
  },
  {
   "cell_type": "code",
   "execution_count": null,
   "metadata": {},
   "outputs": [],
   "source": [
    "usd_2y = DiffFusion.LiborRate(2.0, 2.0, 4.0, \"USD:SOFR\")(path)\n",
    "usd_5y = DiffFusion.LiborRate(5.0, 5.0, 10.0, \"USD:SOFR\")(path)\n",
    "usd_10y = DiffFusion.LiborRate(10.0, 10.0, 20.0, \"USD:SOFR\")(path)\n",
    "\n",
    "p1 = plot_density(usd_2y,  xlabel = \"USD_2y-2y\")\n",
    "p2 = plot_density(usd_5y,  xlabel = \"USD_5y-5y\")\n",
    "p3 = plot_density(usd_10y, xlabel = \"USD_10y-10y\")\n",
    "\n",
    "p = plot(p1, p2, p3, layout=(1,3), size = (900, 300),)\n"
   ]
  },
  {
   "cell_type": "markdown",
   "metadata": {},
   "source": [
    "#### EUR Interest Rates"
   ]
  },
  {
   "cell_type": "code",
   "execution_count": null,
   "metadata": {},
   "outputs": [],
   "source": [
    "eur_2y = DiffFusion.LiborRate(2.0, 2.0, 4.0, \"EUR:ESTR\")(path)\n",
    "eur_5y = DiffFusion.LiborRate(5.0, 5.0, 10.0, \"EUR:ESTR\")(path)\n",
    "eur_10y = DiffFusion.LiborRate(10.0, 10.0, 20.0, \"EUR:ESTR\")(path)\n",
    "\n",
    "p1 = plot_density(eur_2y,  xlabel = \"EUR_2y-2y\")\n",
    "p2 = plot_density(eur_5y,  xlabel = \"EUR_5y-5y\")\n",
    "p3 = plot_density(eur_10y, xlabel = \"EUR_10y-10y\")\n",
    "\n",
    "p = plot(p1, p2, p3, layout=(1,3), size = (900, 300),)"
   ]
  },
  {
   "cell_type": "markdown",
   "metadata": {},
   "source": [
    "#### GBP Interest Rates"
   ]
  },
  {
   "cell_type": "code",
   "execution_count": null,
   "metadata": {},
   "outputs": [],
   "source": [
    "gbp_2y = DiffFusion.LiborRate(2.0, 2.0, 4.0, \"GBP:SONIA\")(path)\n",
    "gbp_5y = DiffFusion.LiborRate(5.0, 5.0, 10.0, \"GBP:SONIA\")(path)\n",
    "gbp_10y = DiffFusion.LiborRate(10.0, 10.0, 20.0, \"GBP:SONIA\")(path)\n",
    "\n",
    "p1 = plot_density(gbp_2y,  xlabel = \"GBP_2y-2y\")\n",
    "p2 = plot_density(gbp_5y,  xlabel = \"GBP_5y-5y\")\n",
    "p3 = plot_density(gbp_10y, xlabel = \"GBP_10y-10y\")\n",
    "\n",
    "p = plot(p1, p2, p3, layout=(1,3), size = (900, 300),)"
   ]
  },
  {
   "cell_type": "markdown",
   "metadata": {},
   "source": [
    "#### EUR-USD Exchange Rates"
   ]
  },
  {
   "cell_type": "code",
   "execution_count": null,
   "metadata": {},
   "outputs": [],
   "source": [
    "eur_usd_2y = DiffFusion.Asset(2.0, \"EUR-USD\")(path)\n",
    "eur_usd_5y = DiffFusion.Asset(5.0, \"EUR-USD\")(path)\n",
    "eur_usd_10y = DiffFusion.Asset(10.0, \"EUR-USD\")(path)\n",
    "\n",
    "p1 = plot_density(eur_usd_2y,  xlabel = \"EUR-USD 2y\")\n",
    "p2 = plot_density(eur_usd_5y,  xlabel = \"EUR-USD 5y\")\n",
    "p3 = plot_density(eur_usd_10y, xlabel = \"EUR-USD 10y\")\n",
    "\n",
    "p = plot(p1, p2, p3, layout=(1,3), size = (900, 300),)"
   ]
  },
  {
   "cell_type": "markdown",
   "metadata": {},
   "source": [
    "#### GBP-USD Exchange Rates"
   ]
  },
  {
   "cell_type": "code",
   "execution_count": null,
   "metadata": {},
   "outputs": [],
   "source": [
    "gbp_usd_2y = DiffFusion.Asset(2.0, \"GBP-USD\")(path)\n",
    "gbp_usd_5y = DiffFusion.Asset(5.0, \"GBP-USD\")(path)\n",
    "gbp_usd_10y = DiffFusion.Asset(10.0, \"GBP-USD\")(path)\n",
    "\n",
    "p1 = plot_density(gbp_usd_2y,  xlabel = \"GBP-USD 2y\")\n",
    "p2 = plot_density(gbp_usd_5y,  xlabel = \"GBP-USD 5y\")\n",
    "p3 = plot_density(gbp_usd_10y, xlabel = \"GBP-USD 10y\")\n",
    "\n",
    "p = plot(p1, p2, p3, layout=(1,3), size = (900, 300),)"
   ]
  },
  {
   "cell_type": "markdown",
   "metadata": {},
   "source": [
    "### Calibrate to Single Riskfactor"
   ]
  },
  {
   "cell_type": "code",
   "execution_count": null,
   "metadata": {},
   "outputs": [],
   "source": [
    "res = radon_nikodym_derivative(reshape(usd_10y, (:,1)), [0.03, ], [0.05, ])\n",
    "println(res.history[end])\n",
    "plot_density(res.w, xlabel = \"Radon-Nikody Derivative\", plot_size = (300, 300),)"
   ]
  },
  {
   "cell_type": "code",
   "execution_count": null,
   "metadata": {},
   "outputs": [],
   "source": [
    "plot_densities(usd_10y, res.w, xlabel = \"USD_10y-10y\")"
   ]
  },
  {
   "cell_type": "markdown",
   "metadata": {},
   "source": [
    "### Calibrate to Term Structure of Risk Factors"
   ]
  },
  {
   "cell_type": "code",
   "execution_count": null,
   "metadata": {},
   "outputs": [],
   "source": [
    "res = radon_nikodym_derivative(hcat(eur_2y, eur_5y, eur_10y), [0.03, 0.025, 0.02, ], [0.015, 0.025, 0.03])\n",
    "println(res.history[end])\n",
    "plot_density(res.w, xlabel = \"Radon-Nikody Derivative\", plot_size = (300, 300),)"
   ]
  },
  {
   "cell_type": "code",
   "execution_count": null,
   "metadata": {},
   "outputs": [],
   "source": [
    "p1 = plot_densities(eur_2y, res.w,  xlabel = \"EUR_2y-2y\")\n",
    "p2 = plot_densities(eur_5y, res.w,  xlabel = \"EUR_5y-5y\")\n",
    "p3 = plot_densities(eur_10y, res.w, xlabel = \"EUR_10y-10y\")\n",
    "p = plot(p1, p2, p3, layout=(3,1), size = (700, 900),)"
   ]
  },
  {
   "cell_type": "markdown",
   "metadata": {},
   "source": [
    "### Calibrate Slice of Hybrid Model"
   ]
  },
  {
   "cell_type": "code",
   "execution_count": null,
   "metadata": {},
   "outputs": [],
   "source": [
    "res = radon_nikodym_derivative(\n",
    "    hcat(usd_10y, eur_10y, gbp_10y, eur_usd_10y, gbp_usd_10y,),\n",
    "    [    0.040,   0.020,   0.030,   1.10,        1.15,],\n",
    "    [    0.040,   0.040,   0.040,   0.30,        0.30,],\n",
    "    max_iter = 1000\n",
    ")\n",
    "println(res.history[end])\n",
    "plot_density(res.w, xlabel = \"Radon-Nikody Derivative\", plot_size = (300, 300),)"
   ]
  },
  {
   "cell_type": "code",
   "execution_count": null,
   "metadata": {},
   "outputs": [],
   "source": [
    "p1 = plot_densities(usd_10y, res.w, xlabel = \"USD_10y-10y\")\n",
    "p2 = plot_densities(eur_10y, res.w, xlabel = \"EUR_10y-10y\")\n",
    "p3 = plot_densities(gbp_10y, res.w, xlabel = \"GBP_10y-10y\")\n",
    "p4 = plot_densities(eur_usd_10y, res.w, xlabel = \"EUR-USD_10y-10y\")\n",
    "p5 = plot_densities(gbp_usd_10y, res.w, xlabel = \"GBP-USD_10y-10y\")\n",
    "p = plot(p1, p2, p3, p4, p5, layout=(5,1), size = (700, 1500),)"
   ]
  },
  {
   "cell_type": "markdown",
   "metadata": {},
   "source": [
    "### Full Hybrid Model Calibration"
   ]
  },
  {
   "cell_type": "code",
   "execution_count": null,
   "metadata": {},
   "outputs": [],
   "source": [
    "res = radon_nikodym_derivative(\n",
    "    hcat(\n",
    "        usd_2y,     usd_5y,     usd_10y,\n",
    "        eur_2y,     eur_5y,     eur_10y,\n",
    "        gbp_2y,     gbp_5y,     gbp_10y,\n",
    "        eur_usd_2y, eur_usd_2y, eur_usd_10y,\n",
    "        gbp_usd_2y, gbp_usd_2y, gbp_usd_10y,\n",
    "    ),\n",
    "    # E[X]\n",
    "    [\n",
    "        0.040,      0.040,      0.040, \n",
    "        0.020,      0.020,      0.020, \n",
    "        0.030,      0.030,      0.030, \n",
    "        1.100,      1.100,      1.100, \n",
    "        1.150,      1.150,      1.150, \n",
    "    ],\n",
    "    # Std\n",
    "    [\n",
    "        0.020,      0.025,      0.040,\n",
    "        0.020,      0.025,      0.040,\n",
    "        0.020,      0.025,      0.040,\n",
    "        0.150,      0.250,      0.300,\n",
    "        0.150,      0.250,      0.300,\n",
    "    ],\n",
    "    max_iter = 1000,\n",
    "    # method = \"LEASTSQUARES\",\n",
    "    method = \"GRADIENT\",\n",
    ")\n",
    "println(res.history[end])\n",
    "plot_density(res.w, xlabel = \"Radon-Nikody Derivative\", plot_size = (300, 300),)"
   ]
  },
  {
   "cell_type": "code",
   "execution_count": null,
   "metadata": {},
   "outputs": [],
   "source": [
    "plot_history(res.history, skip=1)"
   ]
  },
  {
   "cell_type": "code",
   "execution_count": null,
   "metadata": {},
   "outputs": [],
   "source": [
    "fs = 6\n",
    "\n",
    "p1 = plot_densities(usd_2y,  res.w, font_size = fs, xlabel = \"USD_2y-2y\")\n",
    "p2 = plot_densities(usd_5y,  res.w, font_size = fs, xlabel = \"USD_5y-5y\")\n",
    "p3 = plot_densities(usd_10y, res.w, font_size = fs, xlabel = \"USD_10y-10y\")\n",
    "\n",
    "p_usd = plot(p1, p2, p3,\n",
    "    layout=(1,3),\n",
    "    size = (1500, 300),\n",
    "    left_margin = 5Plots.mm,  # adjust this if xaxis label is cut off\n",
    ")\n",
    "\n",
    "p1 = plot_densities(eur_2y,  res.w, font_size = fs, xlabel = \"EUR_2y-2y\")\n",
    "p2 = plot_densities(eur_5y,  res.w, font_size = fs, xlabel = \"EUR_5y-5y\")\n",
    "p3 = plot_densities(eur_10y, res.w, font_size = fs, xlabel = \"EUR_10y-10y\")\n",
    "\n",
    "p_eur = plot(p1, p2, p3,\n",
    "    layout=(1,3),\n",
    "    size = (1500, 300),\n",
    "    left_margin = 5Plots.mm,  # adjust this if xaxis label is cut off\n",
    ")\n",
    "\n",
    "p1 = plot_densities(gbp_2y, res.w, font_size = fs,  xlabel = \"GBP_2y-2y\")\n",
    "p2 = plot_densities(gbp_5y, res.w, font_size = fs,  xlabel = \"GBP_5y-5y\")\n",
    "p3 = plot_densities(gbp_10y, res.w, font_size = fs, xlabel = \"GBP_10y-10y\")\n",
    "\n",
    "p_gbp = plot(p1, p2, p3,\n",
    "    layout=(1,3),\n",
    "    size = (1500, 300),\n",
    "    left_margin = 5Plots.mm,  # adjust this if xaxis label is cut off\n",
    ")\n",
    "\n",
    "p1 = plot_densities(eur_usd_2y,  res.w, font_size = fs, xlabel = \"EUR-USD_2y\")\n",
    "p2 = plot_densities(eur_usd_5y,  res.w, font_size = fs, xlabel = \"EUR-USD_5y\")\n",
    "p3 = plot_densities(eur_usd_10y, res.w, font_size = fs, xlabel = \"EUR-USD_10y\")\n",
    "\n",
    "p_eur_usd = plot(p1, p2, p3,\n",
    "    layout=(1,3),\n",
    "    size = (1500, 300),\n",
    "    left_margin = 5Plots.mm,  # adjust this if xaxis label is cut off\n",
    ")\n",
    "\n",
    "p1 = plot_densities(gbp_usd_2y, res.w, font_size = fs,  xlabel = \"GBP-USD_2y\")\n",
    "p2 = plot_densities(gbp_usd_5y, res.w, font_size = fs,  xlabel = \"GBP-USD_5y\")\n",
    "p3 = plot_densities(gbp_usd_10y, res.w, font_size = fs, xlabel = \"GBP-USD_10y\")\n",
    "\n",
    "p_gbp_usd = plot(p1, p2, p3,\n",
    "    layout=(1,3),\n",
    "    size = (1500, 300),\n",
    "    left_margin = 5Plots.mm,  # adjust this if xaxis label is cut off\n",
    ")\n",
    "\n",
    "# full plot\n",
    "p = plot(p_usd, p_eur, p_gbp, p_eur_usd, p_gbp_usd,\n",
    "    layout=(5,1),\n",
    "    size = (1500, 1500),\n",
    "    left_margin = 5Plots.mm,  # adjust this if xaxis label is cut off\n",
    ")"
   ]
  },
  {
   "cell_type": "code",
   "execution_count": null,
   "metadata": {},
   "outputs": [],
   "source": [
    "# savefig(p, \"radon_nikodym_derivative.png\")"
   ]
  },
  {
   "cell_type": "markdown",
   "metadata": {},
   "source": [
    "### Test Densty *Interpolation* and *Extrapolation*"
   ]
  },
  {
   "cell_type": "code",
   "execution_count": null,
   "metadata": {},
   "outputs": [],
   "source": [
    "# res = radon_nikodym_derivative(reshape(usd_10y, (:,1)), [0.03, ], [0.05, ])\n",
    "res = radon_nikodym_derivative(hcat(usd_2y, usd_10y), [0.03, 0.02, ], [0.015, 0.03])\n",
    "println(res.history[end])\n",
    "plot_density(res.w, xlabel = \"Radon-Nikody Derivative\", plot_size = (300, 300),)"
   ]
  },
  {
   "cell_type": "code",
   "execution_count": null,
   "metadata": {},
   "outputs": [],
   "source": [
    "fs = 6\n",
    "\n",
    "p1 = plot_densities(usd_2y,  res.w, font_size = fs, xlabel = \"USD_2y-2y\")\n",
    "p2 = plot_densities(usd_5y,  res.w, font_size = fs, xlabel = \"USD_5y-5y\")\n",
    "p3 = plot_densities(usd_10y, res.w, font_size = fs, xlabel = \"USD_10y-10y\")\n",
    "\n",
    "p_usd = plot(p1, p2, p3,\n",
    "    layout=(1,3),\n",
    "    size = (1500, 300),\n",
    "    left_margin = 5Plots.mm,  # adjust this if xaxis label is cut off\n",
    ")\n"
   ]
  },
  {
   "cell_type": "code",
   "execution_count": null,
   "metadata": {},
   "outputs": [],
   "source": []
  }
 ],
 "metadata": {
  "kernelspec": {
   "display_name": "Julia 1.9.0",
   "language": "julia",
   "name": "julia-1.9"
  },
  "language_info": {
   "file_extension": ".jl",
   "mimetype": "application/julia",
   "name": "julia",
   "version": "1.9.0"
  }
 },
 "nbformat": 4,
 "nbformat_minor": 2
}
