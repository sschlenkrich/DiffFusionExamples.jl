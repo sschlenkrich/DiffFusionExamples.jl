{
 "cells": [
  {
   "cell_type": "markdown",
   "metadata": {},
   "source": [
    "# Avellaneda Parametrisation\n",
    "\n",
    "We repeat the Radon-Nikodyn Derivative calculation using the parametric optimisation based Avellaneda."
   ]
  },
  {
   "cell_type": "code",
   "execution_count": null,
   "metadata": {},
   "outputs": [],
   "source": [
    "using Pkg\n",
    "Pkg.activate(\".\")\n",
    "\n",
    "using DiffFusion\n",
    "using LinearAlgebra\n",
    "using Interpolations\n",
    "using OrderedCollections\n",
    "using Printf\n",
    "using NonlinearSolve\n",
    "using Roots\n",
    "using StatsBase\n",
    "using StatsPlots\n",
    "using YAML\n",
    "\n",
    "default(fmt = :png)"
   ]
  },
  {
   "cell_type": "code",
   "execution_count": null,
   "metadata": {},
   "outputs": [],
   "source": [
    "include(\"plots.jl\")\n",
    "include(\"avellaneda.jl\")"
   ]
  },
  {
   "cell_type": "code",
   "execution_count": null,
   "metadata": {},
   "outputs": [],
   "source": [
    "dict_list = YAML.load_file(\"model.yaml\"; dicttype=OrderedDict{String,Any})\n",
    "obj_dict = DiffFusion.deserialise_from_list(dict_list)\n",
    "\n",
    "times = 0.0:1.0:10.0\n",
    "n_paths = 2^13\n",
    "\n",
    "sim = DiffFusion.simple_simulation(obj_dict[\"md/G3\"], obj_dict[\"ch/STD\"], times, n_paths, with_progress_bar=false)\n",
    "path = DiffFusion.path(sim, DiffFusion.Examples.term_structures(obj_dict), obj_dict[\"ct/STD\"]);"
   ]
  },
  {
   "cell_type": "code",
   "execution_count": null,
   "metadata": {},
   "outputs": [],
   "source": [
    "e = ones(length(path)); # set RW measure equal to RN measure for initial plots"
   ]
  },
  {
   "cell_type": "code",
   "execution_count": null,
   "metadata": {},
   "outputs": [],
   "source": [
    "usd_2y = DiffFusion.LiborRate(2.0, 2.0, 4.0, \"USD:SOFR\")(path)\n",
    "usd_5y = DiffFusion.LiborRate(5.0, 5.0, 10.0, \"USD:SOFR\")(path)\n",
    "usd_10y = DiffFusion.LiborRate(10.0, 10.0, 20.0, \"USD:SOFR\")(path)\n",
    "\n",
    "p1 = plot_density(usd_2y,  xlabel = \"USD_2y-2y\")\n",
    "p2 = plot_density(usd_5y,  xlabel = \"USD_5y-5y\")\n",
    "p3 = plot_density(usd_10y, xlabel = \"USD_10y-10y\")\n",
    "\n",
    "p = plot(p1, p2, p3, layout=(1,3), size = (900, 300),)"
   ]
  },
  {
   "cell_type": "code",
   "execution_count": null,
   "metadata": {},
   "outputs": [],
   "source": [
    "eur_2y = DiffFusion.LiborRate(2.0, 2.0, 4.0, \"EUR:ESTR\")(path)\n",
    "eur_5y = DiffFusion.LiborRate(5.0, 5.0, 10.0, \"EUR:ESTR\")(path)\n",
    "eur_10y = DiffFusion.LiborRate(10.0, 10.0, 20.0, \"EUR:ESTR\")(path)\n",
    "\n",
    "p1 = plot_density(eur_2y,  xlabel = \"EUR_2y-2y\")\n",
    "p2 = plot_density(eur_5y,  xlabel = \"EUR_5y-5y\")\n",
    "p3 = plot_density(eur_10y, xlabel = \"EUR_10y-10y\")\n",
    "\n",
    "p = plot(p1, p2, p3, layout=(1,3), size = (900, 300),)"
   ]
  },
  {
   "cell_type": "code",
   "execution_count": null,
   "metadata": {},
   "outputs": [],
   "source": [
    "gbp_2y = DiffFusion.LiborRate(2.0, 2.0, 4.0, \"GBP:SONIA\")(path)\n",
    "gbp_5y = DiffFusion.LiborRate(5.0, 5.0, 10.0, \"GBP:SONIA\")(path)\n",
    "gbp_10y = DiffFusion.LiborRate(10.0, 10.0, 20.0, \"GBP:SONIA\")(path)\n",
    "\n",
    "p1 = plot_density(gbp_2y,  xlabel = \"GBP_2y-2y\")\n",
    "p2 = plot_density(gbp_5y,  xlabel = \"GBP_5y-5y\")\n",
    "p3 = plot_density(gbp_10y, xlabel = \"GBP_10y-10y\")\n",
    "\n",
    "p = plot(p1, p2, p3, layout=(1,3), size = (900, 300),)"
   ]
  },
  {
   "cell_type": "code",
   "execution_count": null,
   "metadata": {},
   "outputs": [],
   "source": [
    "eur_usd_2y = DiffFusion.Asset(2.0, \"EUR-USD\")(path)\n",
    "eur_usd_5y = DiffFusion.Asset(5.0, \"EUR-USD\")(path)\n",
    "eur_usd_10y = DiffFusion.Asset(10.0, \"EUR-USD\")(path)\n",
    "\n",
    "p1 = plot_density(eur_usd_2y,  xlabel = \"EUR-USD 2y\")\n",
    "p2 = plot_density(eur_usd_5y,  xlabel = \"EUR-USD 5y\")\n",
    "p3 = plot_density(eur_usd_10y, xlabel = \"EUR-USD 10y\")\n",
    "\n",
    "p = plot(p1, p2, p3, layout=(1,3), size = (900, 300),)"
   ]
  },
  {
   "cell_type": "code",
   "execution_count": null,
   "metadata": {},
   "outputs": [],
   "source": [
    "gbp_usd_2y = DiffFusion.Asset(2.0, \"GBP-USD\")(path)\n",
    "gbp_usd_5y = DiffFusion.Asset(5.0, \"GBP-USD\")(path)\n",
    "gbp_usd_10y = DiffFusion.Asset(10.0, \"GBP-USD\")(path)\n",
    "\n",
    "p1 = plot_density(gbp_usd_2y,  xlabel = \"GBP-USD 2y\")\n",
    "p2 = plot_density(gbp_usd_5y,  xlabel = \"GBP-USD 5y\")\n",
    "p3 = plot_density(gbp_usd_10y, xlabel = \"GBP-USD 10y\")\n",
    "\n",
    "p = plot(p1, p2, p3, layout=(1,3), size = (900, 300),)"
   ]
  },
  {
   "cell_type": "markdown",
   "metadata": {},
   "source": [
    "### Calibrate to Single Riskfactor"
   ]
  },
  {
   "cell_type": "code",
   "execution_count": null,
   "metadata": {},
   "outputs": [],
   "source": [
    "res = avellaneda(reshape(usd_10y, (:,1)), [0.03, ], [0.05, ])\n",
    "println(res.convergence)\n",
    "plot_density(res.w, xlabel = \"Radon-Nikody Derivative\", plot_size = (300, 300),)"
   ]
  },
  {
   "cell_type": "code",
   "execution_count": null,
   "metadata": {},
   "outputs": [],
   "source": [
    "plot_densities(usd_10y, res.w, xlabel = \"USD_10y-10y\")"
   ]
  },
  {
   "cell_type": "markdown",
   "metadata": {},
   "source": [
    "### Calibrate to Term Structure of Risk Factors"
   ]
  },
  {
   "cell_type": "code",
   "execution_count": null,
   "metadata": {},
   "outputs": [],
   "source": [
    "res = avellaneda(hcat(eur_2y, eur_5y, eur_10y), [0.03, 0.025, 0.02, ], [0.015, 0.025, 0.03])\n",
    "println(res.convergence)\n",
    "plot_density(res.w, xlabel = \"Radon-Nikody Derivative\", plot_size = (300, 300),)"
   ]
  },
  {
   "cell_type": "code",
   "execution_count": null,
   "metadata": {},
   "outputs": [],
   "source": [
    "p1 = plot_densities(eur_2y, res.w,  xlabel = \"EUR_2y-2y\")\n",
    "p2 = plot_densities(eur_5y, res.w,  xlabel = \"EUR_5y-5y\")\n",
    "p3 = plot_densities(eur_10y, res.w, xlabel = \"EUR_10y-10y\")\n",
    "p = plot(p1, p2, p3, layout=(3,1), size = (700, 900),)"
   ]
  },
  {
   "cell_type": "markdown",
   "metadata": {},
   "source": [
    "### Calibrate Slice of Hybrid Model"
   ]
  },
  {
   "cell_type": "code",
   "execution_count": null,
   "metadata": {},
   "outputs": [],
   "source": [
    "res = avellaneda(\n",
    "    hcat(usd_10y, eur_10y, gbp_10y, eur_usd_10y, gbp_usd_10y,),\n",
    "    [    0.040,   0.020,   0.030,   1.10,        1.15,],\n",
    "    [    0.040,   0.040,   0.040,   0.30,        0.30,],\n",
    ")\n",
    "println(res.convergence)\n",
    "plot_density(res.w, xlabel = \"Radon-Nikody Derivative\", plot_size = (300, 300),)"
   ]
  },
  {
   "cell_type": "code",
   "execution_count": null,
   "metadata": {},
   "outputs": [],
   "source": [
    "p1 = plot_densities(usd_10y, res.w, xlabel = \"USD_10y-10y\")\n",
    "p2 = plot_densities(eur_10y, res.w, xlabel = \"EUR_10y-10y\")\n",
    "p3 = plot_densities(gbp_10y, res.w, xlabel = \"GBP_10y-10y\")\n",
    "p4 = plot_densities(eur_usd_10y, res.w, xlabel = \"EUR-USD_10y-10y\")\n",
    "p5 = plot_densities(gbp_usd_10y, res.w, xlabel = \"GBP-USD_10y-10y\")\n",
    "p = plot(p1, p2, p3, p4, p5, layout=(5,1), size = (700, 1500),)"
   ]
  },
  {
   "cell_type": "markdown",
   "metadata": {},
   "source": [
    "### Full Hybrid Model Calibration"
   ]
  },
  {
   "cell_type": "code",
   "execution_count": null,
   "metadata": {},
   "outputs": [],
   "source": [
    "res = avellaneda(\n",
    "    hcat(\n",
    "        usd_2y,     usd_5y,     usd_10y,\n",
    "        eur_2y,     eur_5y,     eur_10y,\n",
    "        gbp_2y,     gbp_5y,     gbp_10y,\n",
    "        eur_usd_2y, eur_usd_2y, eur_usd_10y,\n",
    "        gbp_usd_2y, gbp_usd_2y, gbp_usd_10y,\n",
    "    ),\n",
    "    # E[X]\n",
    "    [\n",
    "        0.040,      0.040,      0.040, \n",
    "        0.020,      0.020,      0.020, \n",
    "        0.030,      0.030,      0.030, \n",
    "        1.100,      1.100,      1.100, \n",
    "        1.150,      1.150,      1.150, \n",
    "    ],\n",
    "    # Std\n",
    "    [\n",
    "        0.020,      0.025,      0.040,\n",
    "        0.020,      0.025,      0.040,\n",
    "        0.020,      0.025,      0.040,\n",
    "        0.150,      0.250,      0.300,\n",
    "        0.150,      0.250,      0.300,\n",
    "    ],\n",
    "    # [\n",
    "    #     0.0,      0.0,      0.0,\n",
    "    #     0.0,      0.0,      0.0,\n",
    "    #     0.0,      0.0,      0.0,\n",
    "    #     0.0,      0.0,      0.0,\n",
    "    #     0.0,      0.0,      0.0,\n",
    "    # ],\n",
    ")\n",
    "println(res.convergence)\n",
    "plot_density(res.w, xlabel = \"Radon-Nikody Derivative\", plot_size = (300, 300),)"
   ]
  },
  {
   "cell_type": "code",
   "execution_count": null,
   "metadata": {},
   "outputs": [],
   "source": [
    "res.details.stats"
   ]
  },
  {
   "cell_type": "code",
   "execution_count": null,
   "metadata": {},
   "outputs": [],
   "source": [
    "fs = 6\n",
    "\n",
    "p1 = plot_densities(usd_2y,  res.w, font_size = fs, xlabel = \"USD_2y-2y\")\n",
    "p2 = plot_densities(usd_5y,  res.w, font_size = fs, xlabel = \"USD_5y-5y\")\n",
    "p3 = plot_densities(usd_10y, res.w, font_size = fs, xlabel = \"USD_10y-10y\")\n",
    "\n",
    "p_usd = plot(p1, p2, p3,\n",
    "    layout=(1,3),\n",
    "    size = (1500, 300),\n",
    "    left_margin = 5Plots.mm,  # adjust this if xaxis label is cut off\n",
    ")\n",
    "\n",
    "p1 = plot_densities(eur_2y,  res.w, font_size = fs, xlabel = \"EUR_2y-2y\")\n",
    "p2 = plot_densities(eur_5y,  res.w, font_size = fs, xlabel = \"EUR_5y-5y\")\n",
    "p3 = plot_densities(eur_10y, res.w, font_size = fs, xlabel = \"EUR_10y-10y\")\n",
    "\n",
    "p_eur = plot(p1, p2, p3,\n",
    "    layout=(1,3),\n",
    "    size = (1500, 300),\n",
    "    left_margin = 5Plots.mm,  # adjust this if xaxis label is cut off\n",
    ")\n",
    "\n",
    "p1 = plot_densities(gbp_2y, res.w, font_size = fs,  xlabel = \"GBP_2y-2y\")\n",
    "p2 = plot_densities(gbp_5y, res.w, font_size = fs,  xlabel = \"GBP_5y-5y\")\n",
    "p3 = plot_densities(gbp_10y, res.w, font_size = fs, xlabel = \"GBP_10y-10y\")\n",
    "\n",
    "p_gbp = plot(p1, p2, p3,\n",
    "    layout=(1,3),\n",
    "    size = (1500, 300),\n",
    "    left_margin = 5Plots.mm,  # adjust this if xaxis label is cut off\n",
    ")\n",
    "\n",
    "p1 = plot_densities(eur_usd_2y,  res.w, font_size = fs, xlabel = \"EUR-USD_2y\")\n",
    "p2 = plot_densities(eur_usd_5y,  res.w, font_size = fs, xlabel = \"EUR-USD_5y\")\n",
    "p3 = plot_densities(eur_usd_10y, res.w, font_size = fs, xlabel = \"EUR-USD_10y\")\n",
    "\n",
    "p_eur_usd = plot(p1, p2, p3,\n",
    "    layout=(1,3),\n",
    "    size = (1500, 300),\n",
    "    left_margin = 5Plots.mm,  # adjust this if xaxis label is cut off\n",
    ")\n",
    "\n",
    "p1 = plot_densities(gbp_usd_2y, res.w, font_size = fs,  xlabel = \"GBP-USD_2y\")\n",
    "p2 = plot_densities(gbp_usd_5y, res.w, font_size = fs,  xlabel = \"GBP-USD_5y\")\n",
    "p3 = plot_densities(gbp_usd_10y, res.w, font_size = fs, xlabel = \"GBP-USD_10y\")\n",
    "\n",
    "p_gbp_usd = plot(p1, p2, p3,\n",
    "    layout=(1,3),\n",
    "    size = (1500, 300),\n",
    "    left_margin = 5Plots.mm,  # adjust this if xaxis label is cut off\n",
    ")\n",
    "\n",
    "# full plot\n",
    "p = plot(p_usd, p_eur, p_gbp, p_eur_usd, p_gbp_usd,\n",
    "    layout=(5,1),\n",
    "    size = (1500, 1500),\n",
    "    left_margin = 5Plots.mm,  # adjust this if xaxis label is cut off\n",
    ")"
   ]
  },
  {
   "cell_type": "markdown",
   "metadata": {},
   "source": [
    "### Test Densty *Interpolation* and *Extrapolation*"
   ]
  },
  {
   "cell_type": "code",
   "execution_count": null,
   "metadata": {},
   "outputs": [],
   "source": [
    "res = avellaneda(hcat(usd_2y, usd_10y), [0.03, 0.02, ], [0.015, 0.03])\n",
    "println(res.convergence)\n",
    "plot_density(res.w, xlabel = \"Radon-Nikody Derivative\", plot_size = (300, 300),)"
   ]
  },
  {
   "cell_type": "code",
   "execution_count": null,
   "metadata": {},
   "outputs": [],
   "source": [
    "fs = 6\n",
    "\n",
    "p1 = plot_densities(usd_2y,  res.w, font_size = fs, xlabel = \"USD_2y-2y\")\n",
    "p2 = plot_densities(usd_5y,  res.w, font_size = fs, xlabel = \"USD_5y-5y\")\n",
    "p3 = plot_densities(usd_10y, res.w, font_size = fs, xlabel = \"USD_10y-10y\")\n",
    "\n",
    "p_usd = plot(p1, p2, p3,\n",
    "    layout=(1,3),\n",
    "    size = (1500, 300),\n",
    "    left_margin = 5Plots.mm,  # adjust this if xaxis label is cut off\n",
    ")"
   ]
  },
  {
   "cell_type": "code",
   "execution_count": null,
   "metadata": {},
   "outputs": [],
   "source": []
  }
 ],
 "metadata": {
  "kernelspec": {
   "display_name": "Julia 1.10.2",
   "language": "julia",
   "name": "julia-1.10"
  },
  "language_info": {
   "file_extension": ".jl",
   "mimetype": "application/julia",
   "name": "julia",
   "version": "1.10.2"
  }
 },
 "nbformat": 4,
 "nbformat_minor": 2
}
